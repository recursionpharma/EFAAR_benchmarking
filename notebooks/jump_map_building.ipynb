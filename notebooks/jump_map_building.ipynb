{
 "cells": [
  {
   "cell_type": "markdown",
   "metadata": {},
   "source": [
    "Copyright 2023 Recursion\n",
    "\n",
    "Licensed under the Apache License, Version 2.0 (the \"License\");\n",
    "you may not use this file except in compliance with the License.\n",
    "You may obtain a copy of the License at\n",
    "\n",
    "http://www.apache.org/licenses/LICENSE-2.0\n",
    "\n",
    "Unless required by applicable law or agreed to in writing, software\n",
    "distributed under the License is distributed on an \"AS IS\" BASIS,\n",
    "WITHOUT WARRANTIES OR CONDITIONS OF ANY KIND, either express or implied.\n",
    "See the License for the specific language governing permissions and\n",
    "limitations under the License."
   ]
  },
  {
   "cell_type": "code",
   "execution_count": 10,
   "metadata": {
    "scrolled": true
   },
   "outputs": [
    {
     "name": "stdout",
     "output_type": "stream",
     "text": [
      "[(0.01, 0.99), (0.02, 0.98), (0.03, 0.97), (0.04, 0.96), (0.05, 0.95), (0.06, 0.94), (0.07, 0.93), (0.08, 0.92), (0.09, 0.91), (0.1, 0.9)]\n"
     ]
    }
   ],
   "source": [
    "from efaar_benchmarking.data_loading import load_cpg16_crispr\n",
    "from efaar_benchmarking.efaar import *\n",
    "from efaar_benchmarking.constants import *\n",
    "from efaar_benchmarking.benchmarking import *\n",
    "from efaar_benchmarking.plotting import plot_recall\n",
    "\n",
    "recall_threshold_pairs = []\n",
    "start = 0.01\n",
    "end = 0.99\n",
    "step = 0.01\n",
    "\n",
    "while start <= .105 and end >= .895:\n",
    "    recall_threshold_pairs.append((round(start,2), round(end,2)))\n",
    "    start += step\n",
    "    end -= step\n",
    "\n",
    "print(recall_threshold_pairs)"
   ]
  },
  {
   "cell_type": "code",
   "execution_count": 11,
   "metadata": {},
   "outputs": [],
   "source": [
    "pc_count = 128\n",
    "compute_univariate_metrics = False # note that if you change this to True, the run will take a couple hours to complete\n",
    "\n",
    "features, metadata = load_cpg16_crispr()\n",
    "features, metadata = filter_cell_profiler_features(features, metadata)\n",
    "\n",
    "all_embeddings_pre_agg = {}\n",
    "\n",
    "### Generate embeddings\n",
    "print(\"PCA embedding for\", pc_count, \"dimensions...\")\n",
    "embeddings = embed_by_pca(features.values, metadata, variance_or_ncomp=pc_count, batch_col=JUMP_BATCH_COL)\n",
    "all_embeddings_pre_agg[f\"CP-PCA{pc_count}-CS\"] = centerscale_on_controls(embeddings, metadata, pert_col=JUMP_PERT_LABEL_COL, control_key=JUMP_CONTROL_PERT_LABEL) ## CS alignment\n",
    "all_embeddings_pre_agg[f\"CP-PCA{pc_count}-TVN\"] = tvn_on_controls(embeddings, metadata, pert_col=JUMP_PERT_LABEL_COL, control_key=JUMP_CONTROL_PERT_LABEL, batch_col_coral=JUMP_BATCH_COL_2)  ## TVN alignment\n",
    "\n",
    "### Aggregate and compute benchmarks -- consider saving computationally expensive results like all_embeddings_pre_agg, dist_res, cons_res\n",
    "all_metrics = {}\n",
    "for k, embeddings in all_embeddings_pre_agg.items():\n",
    "    if compute_univariate_metrics:\n",
    "        dist_res = pert_signal_distance_benchmark(embeddings, metadata, pert_col=JUMP_PERT_LABEL_COL, batch_col=JUMP_BATCH_COL, control_key=JUMP_CONTROL_PERT_LABEL, keys_to_drop=['negCtrl', 'no-guide'], n_samples=1000)\n",
    "        print(k, sum(dist_res.pval <= .01) / sum(~pd.isna(dist_res.pval)))\n",
    "        cons_res = pert_signal_consistency_benchmark(embeddings, metadata, pert_col=JUMP_PERT_LABEL_COL, batch_col=JUMP_BATCH_COL, keys_to_drop=[JUMP_CONTROL_PERT_LABEL, 'negCtrl', 'no-guide'], n_samples=1000)\n",
    "        print(k, sum(cons_res.pval <= .01) / sum(~pd.isna(cons_res.pval)))\n",
    "    map_data = aggregate(embeddings, metadata, pert_col=JUMP_PERT_LABEL_COL, control_key=JUMP_CONTROL_PERT_LABEL)\n",
    "    metrics = known_relationship_benchmark(map_data, recall_thr_pairs=recall_threshold_pairs, pert_col=JUMP_PERT_LABEL_COL, n_null_samples = 10000, n_iterations = 1)\n",
    "    print(k)\n",
    "    print(metrics.groupby('source')['recall_0.05_0.95'].mean())\n",
    "    all_metrics[f\"JUMP {k}\"] = metrics\n",
    "plot_recall(all_metrics, right_sided=right_sided)"
   ]
  },
  {
   "cell_type": "code",
   "execution_count": null,
   "metadata": {},
   "outputs": [],
   "source": []
  }
 ],
 "metadata": {
  "kernelspec": {
   "display_name": "eben",
   "language": "python",
   "name": "eben"
  },
  "language_info": {
   "codemirror_mode": {
    "name": "ipython",
    "version": 3
   },
   "file_extension": ".py",
   "mimetype": "text/x-python",
   "name": "python",
   "nbconvert_exporter": "python",
   "pygments_lexer": "ipython3",
   "version": "3.10.4"
  },
  "vscode": {
   "interpreter": {
    "hash": "76625b1555297b59510801a3c242617467e10a4258d8e87339c2a63948eedfe8"
   }
  }
 },
 "nbformat": 4,
 "nbformat_minor": 4
}
