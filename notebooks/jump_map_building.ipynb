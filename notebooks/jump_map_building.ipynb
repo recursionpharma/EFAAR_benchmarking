{
 "cells": [
  {
   "cell_type": "markdown",
   "metadata": {},
   "source": [
    "Copyright 2023 Recursion\n",
    "\n",
    "Licensed under the Apache License, Version 2.0 (the \"License\");\n",
    "you may not use this file except in compliance with the License.\n",
    "You may obtain a copy of the License at\n",
    "\n",
    "http://www.apache.org/licenses/LICENSE-2.0\n",
    "\n",
    "Unless required by applicable law or agreed to in writing, software\n",
    "distributed under the License is distributed on an \"AS IS\" BASIS,\n",
    "WITHOUT WARRANTIES OR CONDITIONS OF ANY KIND, either express or implied.\n",
    "See the License for the specific language governing permissions and\n",
    "limitations under the License."
   ]
  },
  {
   "cell_type": "code",
   "execution_count": null,
   "metadata": {
    "scrolled": true
   },
   "outputs": [],
   "source": [
    "from efaar_benchmarking.data_loading import load_cpg16_crispr\n",
    "from efaar_benchmarking.efaar import *\n",
    "from efaar_benchmarking.constants import *\n",
    "from efaar_benchmarking.benchmarking import univariate_consistency_benchmark, multivariate_benchmark\n",
    "from efaar_benchmarking.plotting import plot_recall\n",
    "\n",
    "recall_threshold_pairs = []\n",
    "start = 0.01\n",
    "end = 0.99\n",
    "step = 0.01\n",
    "\n",
    "while start <= .105 and end >= .895:\n",
    "    recall_threshold_pairs.append((round(start,2), round(end,2)))\n",
    "    start += step\n",
    "    end -= step\n",
    "\n",
    "print(recall_threshold_pairs)"
   ]
  },
  {
   "cell_type": "code",
   "execution_count": null,
   "metadata": {},
   "outputs": [],
   "source": [
    "features, metadata = load_cpg16_crispr() # loading may take some time if the files are not cached yet, depending on the speed of your internet connection\n",
    "features, metadata = filter_cell_profiler_features(features, metadata)\n",
    "maps2build = [\"CP\", \"CP-PCA-CS\", \"CP-PCA-TVN\"]\n",
    "for m in maps2build:\n",
    "    if m in [\"CP-PCA-CS\", \"CP-PCA-TVN\"]:\n",
    "        embeddings = embed_by_pca(features.values, metadata, variance_or_ncomp=.98, plate_col=JUMP_PLATE_COL)\n",
    "        fn = tvn_on_controls if \"TVN\" in m else centerscale_on_controls\n",
    "        embeddings = fn(embeddings, metadata, pert_col=JUMP_PERT_LABEL_COL, control_key=JUMP_CONTROL_PERT_LABEL)\n",
    "    else:\n",
    "        embeddings = features.values\n",
    "    # consistency_pvals = univariate_consistency_benchmark(embeddings, metadata, pert_col=JUMP_PERT_LABEL_COL, keys_to_drop=[JUMP_CONTROL_PERT_LABEL, 'no-guide'])\n",
    "    map_data = aggregate(embeddings, metadata, pert_col=JUMP_PERT_LABEL_COL, control_key=JUMP_CONTROL_PERT_LABEL)\n",
    "    for right_sided in [False]:\n",
    "        metrics = multivariate_benchmark(map_data, recall_thr_pairs=recall_threshold_pairs, pert_col=JUMP_PERT_LABEL_COL, n_null_samples = 10000, n_iterations = 1, right_sided=right_sided)\n",
    "        # plot_recall({f'JUMP {m}': metrics}, right_sided=right_sided, title=\"Right tail only\" if right_sided else \"Both tails\")\n",
    "        print(metrics.groupby('source')['recall_0.05_0.95'].mean())"
   ]
  },
  {
   "cell_type": "code",
   "execution_count": null,
   "metadata": {},
   "outputs": [],
   "source": []
  }
 ],
 "metadata": {
  "kernelspec": {
   "display_name": "Python 3 (ipykernel)",
   "language": "python",
   "name": "python3"
  },
  "language_info": {
   "codemirror_mode": {
    "name": "ipython",
    "version": 3
   },
   "file_extension": ".py",
   "mimetype": "text/x-python",
   "name": "python",
   "nbconvert_exporter": "python",
   "pygments_lexer": "ipython3",
   "version": "3.11.5"
  },
  "vscode": {
   "interpreter": {
    "hash": "76625b1555297b59510801a3c242617467e10a4258d8e87339c2a63948eedfe8"
   }
  }
 },
 "nbformat": 4,
 "nbformat_minor": 4
}
