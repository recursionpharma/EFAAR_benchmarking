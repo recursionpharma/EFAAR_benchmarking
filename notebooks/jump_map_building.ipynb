{
 "cells": [
  {
   "cell_type": "markdown",
   "metadata": {},
   "source": [
    "Copyright 2023 Recursion\n",
    "\n",
    "Licensed under the Apache License, Version 2.0 (the \"License\");\n",
    "you may not use this file except in compliance with the License.\n",
    "You may obtain a copy of the License at\n",
    "\n",
    "http://www.apache.org/licenses/LICENSE-2.0\n",
    "\n",
    "Unless required by applicable law or agreed to in writing, software\n",
    "distributed under the License is distributed on an \"AS IS\" BASIS,\n",
    "WITHOUT WARRANTIES OR CONDITIONS OF ANY KIND, either express or implied.\n",
    "See the License for the specific language governing permissions and\n",
    "limitations under the License."
   ]
  },
  {
   "cell_type": "code",
   "execution_count": null,
   "metadata": {
    "scrolled": true
   },
   "outputs": [],
   "source": [
    "from efaar_benchmarking.data_loading import load_cpg16_crispr\n",
    "from efaar_benchmarking.efaar import *\n",
    "from efaar_benchmarking.constants import *\n",
    "from efaar_benchmarking.benchmarking import univariate_consistency_benchmark, multivariate_benchmark\n",
    "from efaar_benchmarking.plotting import plot_recall\n",
    "\n",
    "recall_threshold_pairs = []\n",
    "start = 0.01\n",
    "end = 0.99\n",
    "step = 0.01\n",
    "\n",
    "while start <= .105 and end >= .895:\n",
    "    recall_threshold_pairs.append((round(start,2), round(end,2)))\n",
    "    start += step\n",
    "    end -= step\n",
    "\n",
    "print(recall_threshold_pairs)"
   ]
  },
  {
   "cell_type": "code",
   "execution_count": null,
   "metadata": {},
   "outputs": [],
   "source": [
    "pc_counts = [128, 256, 512, 1024, 2048]\n",
    "all_embeddings_pre_agg = {}\n",
    "features, metadata = load_cpg16_crispr() # loading may take some time if the files are not cached yet, depending on the speed of your internet connection\n",
    "features, metadata = filter_cell_profiler_features(features, metadata)\n",
    "\n",
    "# Raw CP features\n",
    "all_embeddings_pre_agg[\"CP\"] = features.values\n",
    "all_embeddings_pre_agg[\"CP-CS\"] = centerscale_on_controls(features.values, metadata, pert_col=JUMP_PERT_LABEL_COL, control_key=JUMP_CONTROL_PERT_LABEL)\n",
    "\n",
    "### PCA embeddings with different PC counts and alignment\n",
    "for pcc in pc_counts:\n",
    "    print(pcc)\n",
    "    embeddings = embed_by_pca(features.values, metadata, variance_or_ncomp=pcc, plate_col=JUMP_PLATE_COL)\n",
    "    for k, fn in {f\"CP-PCA{pcc}-CS\": centerscale_on_controls, f\"CP-PCA{pcc}-TVN\": tvn_on_controls}.items():\n",
    "        all_embeddings_pre_agg[k] = fn(embeddings, metadata, pert_col=JUMP_PERT_LABEL_COL, control_key=JUMP_CONTROL_PERT_LABEL)\n",
    "\n",
    "### Aggregate and compute metrics\n",
    "for right_sided in [False]:\n",
    "    all_metrics = {}\n",
    "    for k, embeddings in all_embeddings_pre_agg.items():\n",
    "        # consistency_pvals = univariate_consistency_benchmark(embeddings, metadata, pert_col=JUMP_PERT_LABEL_COL, keys_to_drop=[JUMP_CONTROL_PERT_LABEL, 'no-guide'])\n",
    "        map_data = aggregate(embeddings, metadata, pert_col=JUMP_PERT_LABEL_COL, control_key=JUMP_CONTROL_PERT_LABEL)\n",
    "        metrics = multivariate_benchmark(map_data, recall_thr_pairs=recall_threshold_pairs, pert_col=JUMP_PERT_LABEL_COL, n_null_samples = 10000, n_iterations = 1, right_sided=right_sided)\n",
    "        print(k)\n",
    "        print(metrics.groupby('source')['recall_0.05_0.95'].mean())\n",
    "        all_metrics[f\"JUMP {k}\"] = metrics\n",
    "    plot_recall(all_metrics, right_sided=right_sided, title=\"Right tail only\" if right_sided else \"Both tails\")"
   ]
  },
  {
   "cell_type": "code",
   "execution_count": null,
   "metadata": {},
   "outputs": [],
   "source": []
  }
 ],
 "metadata": {
  "kernelspec": {
   "display_name": "eben",
   "language": "python",
   "name": "eben"
  },
  "language_info": {
   "codemirror_mode": {
    "name": "ipython",
    "version": 3
   },
   "file_extension": ".py",
   "mimetype": "text/x-python",
   "name": "python",
   "nbconvert_exporter": "python",
   "pygments_lexer": "ipython3",
   "version": "3.10.4"
  },
  "vscode": {
   "interpreter": {
    "hash": "76625b1555297b59510801a3c242617467e10a4258d8e87339c2a63948eedfe8"
   }
  }
 },
 "nbformat": 4,
 "nbformat_minor": 4
}
