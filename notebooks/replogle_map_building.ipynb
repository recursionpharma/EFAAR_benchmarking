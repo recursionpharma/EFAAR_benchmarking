{
 "cells": [
  {
   "cell_type": "code",
   "execution_count": null,
   "id": "35b44634",
   "metadata": {},
   "outputs": [],
   "source": [
    "from efaar_benchmarking.data_loading import load_replogle\n",
    "from efaar_benchmarking.efaar import *\n",
    "from efaar_benchmarking.constants import *\n",
    "from efaar_benchmarking.benchmarking import univariate_consistency_benchmark, multivariate_benchmark\n",
    "from efaar_benchmarking.plotting import plot_recall\n",
    "\n",
    "recall_threshold_pairs = []\n",
    "start = 0.01\n",
    "end = 0.99\n",
    "step = 0.01\n",
    "\n",
    "while start <= .105 and end >= .895:\n",
    "    recall_threshold_pairs.append((round(start,2), round(end,2)))\n",
    "    start += step\n",
    "    end -= step\n",
    "\n",
    "print(recall_threshold_pairs)"
   ]
  },
  {
   "cell_type": "code",
   "execution_count": null,
   "id": "fc927454",
   "metadata": {},
   "outputs": [],
   "source": [
    "maps2build = [\"PCA-CS\", \"scVI-CS\", \"scVI-TVN\"]\n",
    "for m in maps2build:\n",
    "    if m in [\"scVI-CS\", \"scVI-TVN\"]:\n",
    "        adata = load_replogle(\"genome_wide\", \"raw\") # use for scVI Embeddings\n",
    "        embeddings = embed_by_scvi_anndata(adata) # scVI Embeddings\n",
    "        metadata = adata.obs\n",
    "        fn = tvn_on_controls if \"TVN\" in m else centerscale_on_controls\n",
    "        embeddings = fn(embeddings, metadata, pert_col=REPLOGLE_PERT_LABEL_COL, control_key=REPLOGLE_CONTROL_PERT_LABEL)\n",
    "    else:\n",
    "        adata = load_replogle(\"genome_wide\", \"normalized\") # use for PCA Embeddings\n",
    "        embeddings = embed_by_pca_anndata(adata) # PCA Embeddings\n",
    "        metadata = adata.obs\n",
    "        embeddings = centerscale_on_controls(embeddings, metadata, pert_col=REPLOGLE_PERT_LABEL_COL, control_key=REPLOGLE_CONTROL_PERT_LABEL)\n",
    "    # consistency_pvals = univariate_consistency_benchmark(embeddings, metadata, pert_col=REPLOGLE_PERT_LABEL_COL, keys_to_drop=[REPLOGLE_CONTROL_PERT_LABEL])\n",
    "    map_data = aggregate(embeddings, metadata, pert_col=REPLOGLE_PERT_LABEL_COL, control_key=REPLOGLE_CONTROL_PERT_LABEL)\n",
    "    for right_sided in [False]:\n",
    "        metrics = multivariate_benchmark(map_data, recall_thr_pairs=recall_threshold_pairs, pert_col=REPLOGLE_PERT_LABEL_COL, n_null_samples = 10000, n_iterations = 1, right_sided=right_sided)\n",
    "        plot_recall({f'GWPS {m}': metrics}, right_sided=right_sided, title=\"Right tail only\" if right_sided else \"Both tails\")\n",
    "        print(metrics.groupby('source')['recall_0.05_0.95'].mean())"
   ]
  },
  {
   "cell_type": "code",
   "execution_count": null,
   "id": "73b7fabb",
   "metadata": {},
   "outputs": [],
   "source": []
  }
 ],
 "metadata": {
  "kernelspec": {
   "display_name": "eben",
   "language": "python",
   "name": "python3"
  },
  "language_info": {
   "codemirror_mode": {
    "name": "ipython",
    "version": 3
   },
   "file_extension": ".py",
   "mimetype": "text/x-python",
   "name": "python",
   "nbconvert_exporter": "python",
   "pygments_lexer": "ipython3",
   "version": "3.11.5"
  }
 },
 "nbformat": 4,
 "nbformat_minor": 5
}
