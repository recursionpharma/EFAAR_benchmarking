{
 "cells": [
  {
   "cell_type": "markdown",
   "id": "e816f126",
   "metadata": {},
   "source": [
    "Copyright 2023 Genentech, Inc.\n",
    "\n",
    "Licensed under the Apache License, Version 2.0 (the \"License\");\n",
    "you may not use this file except in compliance with the License.\n",
    "You may obtain a copy of the License at\n",
    "\n",
    "http://www.apache.org/licenses/LICENSE-2.0\n",
    "\n",
    "Unless required by applicable law or agreed to in writing, software\n",
    "distributed under the License is distributed on an \"AS IS\" BASIS,\n",
    "WITHOUT WARRANTIES OR CONDITIONS OF ANY KIND, either express or implied.\n",
    "See the License for the specific language governing permissions and\n",
    "limitations under the License."
   ]
  },
  {
   "cell_type": "code",
   "execution_count": 3,
   "id": "35b44634",
   "metadata": {},
   "outputs": [
    {
     "name": "stderr",
     "output_type": "stream",
     "text": [
      "/Users/safiye.celik/.pyenv/versions/3.11.5/envs/eben/lib/python3.11/site-packages/scvi/_settings.py:63: UserWarning: Since v1.0.0, scvi-tools no longer uses a random seed by default. Run `scvi.settings.seed = 0` to reproduce results from previous versions.\n",
      "  self.seed = seed\n",
      "/Users/safiye.celik/.pyenv/versions/3.11.5/envs/eben/lib/python3.11/site-packages/scvi/_settings.py:70: UserWarning: Setting `dl_pin_memory_gpu_training` is deprecated in v1.0 and will be removed in v1.1. Please pass in `pin_memory` to the data loaders instead.\n",
      "  self.dl_pin_memory_gpu_training = (\n",
      "/Users/safiye.celik/.pyenv/versions/3.11.5/envs/eben/lib/python3.11/site-packages/tqdm/auto.py:21: TqdmWarning: IProgress not found. Please update jupyter and ipywidgets. See https://ipywidgets.readthedocs.io/en/stable/user_install.html\n",
      "  from .autonotebook import tqdm as notebook_tqdm\n"
     ]
    },
    {
     "name": "stdout",
     "output_type": "stream",
     "text": [
      "[(0.01, 0.99), (0.02, 0.98), (0.03, 0.97), (0.04, 0.96), (0.05, 0.95), (0.06, 0.94), (0.07, 0.93), (0.08, 0.92), (0.09, 0.91), (0.1, 0.9)]\n"
     ]
    }
   ],
   "source": [
    "from efaar_benchmarking.data_loading import load_replogle\n",
    "from efaar_benchmarking.efaar import *\n",
    "from efaar_benchmarking.benchmarking import benchmark\n",
    "from efaar_benchmarking.plotting import plot_recall\n",
    "import pandas as pd\n",
    "\n",
    "recall_threshold_pairs = []\n",
    "start = 0.01\n",
    "end = 0.99\n",
    "step = 0.01\n",
    "\n",
    "while start <= .105 and end >= .895:\n",
    "    recall_threshold_pairs.append((round(start,2), round(end,2)))\n",
    "    start += step\n",
    "    end -= step\n",
    "\n",
    "print(recall_threshold_pairs)"
   ]
  },
  {
   "cell_type": "markdown",
   "id": "73582e0b",
   "metadata": {},
   "source": [
    "## PCA Embeddings"
   ]
  },
  {
   "cell_type": "code",
   "execution_count": null,
   "id": "3e9e8847",
   "metadata": {},
   "outputs": [],
   "source": [
    "adata = load_replogle(\"genome_wide\", \"normalized\")\n",
    "metadata = adata.obs\n",
    "embeddings = embed_by_pca_anndata(adata)\n",
    "del adata\n",
    "embeddings = align_on_controls(embeddings, metadata)\n",
    "map_data = aggregate(embeddings, metadata)\n",
    "del embeddings, metadata\n",
    "metrics = benchmark(map_data, recall_thr_pairs=recall_threshold_pairs)\n",
    "plot_recall(metrics)\n",
    "metrics.groupby('source')['recall_0.05_0.95'].mean()"
   ]
  },
  {
   "cell_type": "markdown",
   "metadata": {},
   "source": [
    "## scVI Embeddings"
   ]
  },
  {
   "cell_type": "code",
   "execution_count": null,
   "id": "3d300d0c",
   "metadata": {},
   "outputs": [],
   "source": [
    "adata = load_replogle(\"essential\", \"raw\")\n",
    "metadata = adata.obs\n",
    "embeddings = embed_by_scvi_anndata(adata)\n",
    "embeddings = align_on_controls(embeddings, metadata)\n",
    "map_data = align_on_controls(embeddings, metadata)\n",
    "metrics = benchmark(map_data, recall_thr_pairs=recall_threshold_pairs)\n",
    "plot_recall(metrics)"
   ]
  }
 ],
 "metadata": {
  "kernelspec": {
   "display_name": "Python 3 (ipykernel)",
   "language": "python",
   "name": "python3"
  },
  "language_info": {
   "codemirror_mode": {
    "name": "ipython",
    "version": 3
   },
   "file_extension": ".py",
   "mimetype": "text/x-python",
   "name": "python",
   "nbconvert_exporter": "python",
   "pygments_lexer": "ipython3",
   "version": "3.11.5"
  }
 },
 "nbformat": 4,
 "nbformat_minor": 5
}
