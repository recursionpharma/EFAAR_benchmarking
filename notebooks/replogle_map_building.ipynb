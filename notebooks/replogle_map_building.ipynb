{
 "cells": [
  {
   "cell_type": "code",
   "execution_count": null,
   "id": "35b44634",
   "metadata": {},
   "outputs": [],
   "source": [
    "from efaar_benchmarking.data_loading import load_replogle\n",
    "from efaar_benchmarking.efaar import *\n",
    "from efaar_benchmarking.constants import *\n",
    "from efaar_benchmarking.benchmarking import univariate_consistency_benchmark, multivariate_benchmark\n",
    "from efaar_benchmarking.plotting import plot_recall\n",
    "\n",
    "recall_threshold_pairs = []\n",
    "start = 0.01\n",
    "end = 0.99\n",
    "step = 0.01\n",
    "\n",
    "while start <= .105 and end >= .895:\n",
    "    recall_threshold_pairs.append((round(start,2), round(end,2)))\n",
    "    start += step\n",
    "    end -= step\n",
    "\n",
    "print(recall_threshold_pairs)"
   ]
  },
  {
   "cell_type": "code",
   "execution_count": null,
   "id": "fc927454",
   "metadata": {},
   "outputs": [],
   "source": [
    "pc_counts = [128, 256, 512, 1024]\n",
    "all_embeddings_pre_agg = {}\n",
    "\n",
    "adata_norm = load_replogle(\"genome_wide\", \"normalized\", \"../../project\")\n",
    "metadata = adata_norm.obs\n",
    "### PCA embeddings with different PC counts and alignment\n",
    "for pcc in pc_counts:\n",
    "    print(pcc)\n",
    "    embeddings = embed_by_pca_anndata(adata_norm, pcc)\n",
    "    for k, fn in {f\"PCA{pcc}-CS\": centerscale_on_controls, f\"PCA{pcc}-TVN\": tvn_on_controls}.items():\n",
    "        all_embeddings_pre_agg[k] = fn(embeddings, metadata, pert_col=REPLOGLE_PERT_LABEL_COL, control_key=REPLOGLE_CONTROL_PERT_LABEL)\n",
    "del adata_norm\n",
    "\n",
    "adata_raw = load_replogle(\"genome_wide\", \"raw\", \"../../project\")\n",
    "metadata = adata_raw.obs\n",
    "### scVI embeddings with different latent and hidden node counts and alignment\n",
    "for pcc in pc_counts:\n",
    "    print(pcc)\n",
    "    embeddings = embed_by_scvi_anndata(adata_raw, n_latent=pcc, n_hidden=pcc*2)\n",
    "    for k, fn in {f\"scVI{pcc}-CS\": centerscale_on_controls, f\"scVI{pcc}-TVN\": tvn_on_controls}.items():\n",
    "        all_embeddings_pre_agg[k] = fn(embeddings, metadata, pert_col=REPLOGLE_PERT_LABEL_COL, control_key=REPLOGLE_CONTROL_PERT_LABEL)\n",
    "del adata_raw\n",
    "\n",
    "### Aggregate and compute metrics\n",
    "for right_sided in [False]:\n",
    "    all_metrics = {}\n",
    "    for k, embeddings in all_embeddings_pre_agg.items():\n",
    "        # consistency_pvals = univariate_consistency_benchmark(embeddings, metadata, pert_col=REPLOGLE_PERT_LABEL_COL, keys_to_drop=[REPLOGLE_CONTROL_PERT_LABEL])\n",
    "        map_data = aggregate(embeddings, metadata, pert_col=REPLOGLE_PERT_LABEL_COL, control_key=REPLOGLE_CONTROL_PERT_LABEL)\n",
    "        metrics = multivariate_benchmark(map_data, recall_thr_pairs=recall_threshold_pairs, pert_col=REPLOGLE_PERT_LABEL_COL, n_null_samples = 10000, n_iterations = 1, right_sided=right_sided)\n",
    "        print(k)\n",
    "        print(metrics.groupby('source')['recall_0.05_0.95'].mean())\n",
    "        all_metrics[f\"GWPS {k}\"] = metrics\n",
    "    plot_recall(all_metrics, right_sided=right_sided, title=\"Right tail only\" if right_sided else \"Both tails\")"
   ]
  },
  {
   "cell_type": "code",
   "execution_count": null,
   "id": "a1271fd7-1473-4728-b539-c64d6d7b3ac4",
   "metadata": {},
   "outputs": [],
   "source": []
  }
 ],
 "metadata": {
  "kernelspec": {
   "display_name": "eben",
   "language": "python",
   "name": "eben"
  },
  "language_info": {
   "codemirror_mode": {
    "name": "ipython",
    "version": 3
   },
   "file_extension": ".py",
   "mimetype": "text/x-python",
   "name": "python",
   "nbconvert_exporter": "python",
   "pygments_lexer": "ipython3",
   "version": "3.10.4"
  }
 },
 "nbformat": 4,
 "nbformat_minor": 5
}
