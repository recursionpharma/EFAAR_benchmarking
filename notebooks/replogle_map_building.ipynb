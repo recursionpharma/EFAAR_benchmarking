{
 "cells": [
  {
   "cell_type": "markdown",
   "id": "e816f126",
   "metadata": {},
   "source": [
    "Copyright 2023 Genentech, Inc.\n",
    "\n",
    "Licensed under the Apache License, Version 2.0 (the \"License\");\n",
    "you may not use this file except in compliance with the License.\n",
    "You may obtain a copy of the License at\n",
    "\n",
    "http://www.apache.org/licenses/LICENSE-2.0\n",
    "\n",
    "Unless required by applicable law or agreed to in writing, software\n",
    "distributed under the License is distributed on an \"AS IS\" BASIS,\n",
    "WITHOUT WARRANTIES OR CONDITIONS OF ANY KIND, either express or implied.\n",
    "See the License for the specific language governing permissions and\n",
    "limitations under the License."
   ]
  },
  {
   "cell_type": "code",
   "execution_count": null,
   "id": "35b44634",
   "metadata": {},
   "outputs": [],
   "source": [
    "import sys\n",
    "sys.path.append('/mnt/ps/home/CORP/safiye.celik/')\n",
    "sys.path.append('/mnt/ps/home/CORP/safiye.celik/EFAAR_benchmarking')\n",
    "\n",
    "from efaar_benchmarking.data_loading import load_replogle\n",
    "from efaar_benchmarking.efaar import *\n",
    "from efaar_benchmarking.benchmarking import benchmark\n",
    "from efaar_benchmarking.plotting import plot_recall\n",
    "\n",
    "recall_threshold_pairs = []\n",
    "start = 0.01\n",
    "end = 0.99\n",
    "step = 0.01\n",
    "\n",
    "while start <= .105 and end >= .895:\n",
    "    recall_threshold_pairs.append((round(start,2), round(end,2)))\n",
    "    start += step\n",
    "    end -= step\n",
    "\n",
    "print(recall_threshold_pairs)"
   ]
  },
  {
   "cell_type": "markdown",
   "id": "73582e0b",
   "metadata": {},
   "source": [
    "## PCA Embeddings"
   ]
  },
  {
   "cell_type": "code",
   "execution_count": null,
   "id": "3e9e8847",
   "metadata": {
    "scrolled": true
   },
   "outputs": [],
   "source": [
    "adata = load_replogle(\"genome_wide\", \"normalized\")\n",
    "metadata = adata.obs\n",
    "print(metadata.shape)\n",
    "embeddings = embed_by_pca_anndata(adata)\n",
    "print(embeddings.shape)\n",
    "del adata\n",
    "embeddings = align_on_controls(embeddings, metadata)\n",
    "print(embeddings.shape)\n",
    "map_data = aggregate(embeddings, metadata)\n",
    "del embeddings, metadata\n",
    "metrics = benchmark(map_data, recall_thr_pairs=recall_threshold_pairs)\n",
    "plot_recall(metrics)\n",
    "metrics.groupby('source')['recall_0.05_0.95'].mean()"
   ]
  },
  {
   "cell_type": "markdown",
   "id": "2bd66d1d",
   "metadata": {},
   "source": [
    "## scVI Embeddings"
   ]
  },
  {
   "cell_type": "code",
   "execution_count": null,
   "id": "3d300d0c",
   "metadata": {},
   "outputs": [],
   "source": [
    "adata = load_replogle(\"genome_wide\", \"raw\")\n",
    "metadata = adata.obs\n",
    "print(metadata.shape)\n",
    "embeddings = embed_by_scvi_anndata(adata)\n",
    "print(embeddings.shape)\n",
    "del adata\n",
    "embeddings = align_on_controls(embeddings, metadata)\n",
    "map_data = aggregate(embeddings, metadata)\n",
    "del embeddings, metadata\n",
    "metrics = benchmark(map_data, recall_thr_pairs=recall_threshold_pairs)\n",
    "plot_recall(metrics)\n",
    "metrics.groupby('source')['recall_0.05_0.95'].mean()"
   ]
  }
 ],
 "metadata": {
  "kernelspec": {
   "display_name": "eben",
   "language": "python",
   "name": "eben"
  },
  "language_info": {
   "codemirror_mode": {
    "name": "ipython",
    "version": 3
   },
   "file_extension": ".py",
   "mimetype": "text/x-python",
   "name": "python",
   "nbconvert_exporter": "python",
   "pygments_lexer": "ipython3",
   "version": "3.10.4"
  }
 },
 "nbformat": 4,
 "nbformat_minor": 5
}
