{
 "cells": [
  {
   "cell_type": "code",
   "execution_count": 1,
   "id": "35b44634",
   "metadata": {},
   "outputs": [
    {
     "name": "stderr",
     "output_type": "stream",
     "text": [
      "/mnt/ps/home/CORP/safiye.celik/.pyenv/versions/eben/lib/python3.10/site-packages/scvi/_settings.py:63: UserWarning: Since v1.0.0, scvi-tools no longer uses a random seed by default. Run `scvi.settings.seed = 0` to reproduce results from previous versions.\n",
      "  self.seed = seed\n",
      "/mnt/ps/home/CORP/safiye.celik/.pyenv/versions/eben/lib/python3.10/site-packages/scvi/_settings.py:70: UserWarning: Setting `dl_pin_memory_gpu_training` is deprecated in v1.0 and will be removed in v1.1. Please pass in `pin_memory` to the data loaders instead.\n",
      "  self.dl_pin_memory_gpu_training = (\n",
      "/mnt/ps/home/CORP/safiye.celik/.pyenv/versions/eben/lib/python3.10/site-packages/tqdm/auto.py:21: TqdmWarning: IProgress not found. Please update jupyter and ipywidgets. See https://ipywidgets.readthedocs.io/en/stable/user_install.html\n",
      "  from .autonotebook import tqdm as notebook_tqdm\n"
     ]
    },
    {
     "name": "stdout",
     "output_type": "stream",
     "text": [
      "[(0.01, 0.99), (0.02, 0.98), (0.03, 0.97), (0.04, 0.96), (0.05, 0.95), (0.06, 0.94), (0.07, 0.93), (0.08, 0.92), (0.09, 0.91), (0.1, 0.9)]\n"
     ]
    }
   ],
   "source": [
    "from efaar_benchmarking.data_loading import load_replogle\n",
    "from efaar_benchmarking.efaar import *\n",
    "from efaar_benchmarking.constants import *\n",
    "from efaar_benchmarking.benchmarking import univariate_consistency_benchmark, multivariate_benchmark\n",
    "from efaar_benchmarking.plotting import plot_recall\n",
    "\n",
    "recall_threshold_pairs = []\n",
    "start = 0.01\n",
    "end = 0.99\n",
    "step = 0.01\n",
    "\n",
    "while start <= .105 and end >= .895:\n",
    "    recall_threshold_pairs.append((round(start,2), round(end,2)))\n",
    "    start += step\n",
    "    end -= step\n",
    "\n",
    "print(recall_threshold_pairs)"
   ]
  },
  {
   "cell_type": "code",
   "execution_count": null,
   "id": "fc927454",
   "metadata": {},
   "outputs": [
    {
     "name": "stdout",
     "output_type": "stream",
     "text": [
      "128\n"
     ]
    }
   ],
   "source": [
    "pc_counts = [128, 256, 512, 1024]\n",
    "all_embeddings_pre_agg = {}\n",
    "\n",
    "adata_norm = load_replogle(\"genome_wide\", \"normalized\", \"../../project\")\n",
    "metadata = adata_norm.obs\n",
    "### PCA embeddings with different PC counts and alignment\n",
    "for pcc in pc_counts:\n",
    "    print(pcc)\n",
    "    embeddings = embed_by_pca_anndata(adata_norm, pcc)\n",
    "    for k, fn in {f\"PCA{pcc}-CS\": centerscale_on_controls, f\"PCA{pcc}-TVN\": tvn_on_controls}.items():\n",
    "        all_embeddings_pre_agg[k] = fn(embeddings, metadata, pert_col=REPLOGLE_PERT_LABEL_COL, control_key=REPLOGLE_CONTROL_PERT_LABEL)\n",
    "del adata_norm\n",
    "\n",
    "adata_raw = load_replogle(\"genome_wide\", \"raw\", \"../../project\")\n",
    "metadata = adata_raw.obs\n",
    "### scVI embeddings with different latent and hidden node counts and alignment\n",
    "for pcc in pc_counts:\n",
    "    print(pcc)\n",
    "    embeddings = embed_by_scvi_anndata(adata_raw, n_latent=pcc, n_hidden=pcc*2)\n",
    "    for k, fn in {f\"scVI{pcc}-CS\": centerscale_on_controls, f\"scVI{pcc}-TVN\": tvn_on_controls}.items():\n",
    "        all_embeddings_pre_agg[k] = fn(embeddings, metadata, pert_col=REPLOGLE_PERT_LABEL_COL, control_key=REPLOGLE_CONTROL_PERT_LABEL)\n",
    "del adata_raw\n",
    "\n",
    "### Aggregate and compute metrics\n",
    "for right_sided in [False]:\n",
    "    all_metrics = {}\n",
    "    for k, embeddings in all_embeddings_pre_agg.items():\n",
    "        # consistency_pvals = univariate_consistency_benchmark(embeddings, metadata, pert_col=REPLOGLE_PERT_LABEL_COL, keys_to_drop=[REPLOGLE_CONTROL_PERT_LABEL])\n",
    "        map_data = aggregate(embeddings, metadata, pert_col=REPLOGLE_PERT_LABEL_COL, control_key=REPLOGLE_CONTROL_PERT_LABEL)\n",
    "        metrics = multivariate_benchmark(map_data, recall_thr_pairs=recall_threshold_pairs, pert_col=REPLOGLE_PERT_LABEL_COL, n_null_samples = 10000, n_iterations = 1, right_sided=right_sided)\n",
    "        print(k)\n",
    "        print(metrics.groupby('source')['recall_0.05_0.95'].mean())\n",
    "        all_metrics[f\"GWPS {k}\"] = metrics\n",
    "    plot_recall(all_metrics, right_sided=right_sided, title=\"Right tail only\" if right_sided else \"Both tails\")"
   ]
  },
  {
   "cell_type": "code",
   "execution_count": null,
   "id": "a1271fd7-1473-4728-b539-c64d6d7b3ac4",
   "metadata": {},
   "outputs": [],
   "source": []
  }
 ],
 "metadata": {
  "kernelspec": {
   "display_name": "eben",
   "language": "python",
   "name": "eben"
  },
  "language_info": {
   "codemirror_mode": {
    "name": "ipython",
    "version": 3
   },
   "file_extension": ".py",
   "mimetype": "text/x-python",
   "name": "python",
   "nbconvert_exporter": "python",
   "pygments_lexer": "ipython3",
   "version": "3.10.4"
  }
 },
 "nbformat": 4,
 "nbformat_minor": 5
}
