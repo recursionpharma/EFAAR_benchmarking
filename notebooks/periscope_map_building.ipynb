{
 "cells": [
  {
   "cell_type": "code",
   "execution_count": null,
   "metadata": {},
   "outputs": [],
   "source": [
    "from efaar_benchmarking.data_loading import load_periscope\n",
    "from efaar_benchmarking.efaar import *\n",
    "from efaar_benchmarking.constants import *\n",
    "from efaar_benchmarking.benchmarking import univariate_consistency_benchmark, multivariate_benchmark\n",
    "from efaar_benchmarking.plotting import plot_recall\n",
    "\n",
    "recall_threshold_pairs = []\n",
    "start = 0.01\n",
    "end = 0.99\n",
    "step = 0.01\n",
    "\n",
    "while start <= .105 and end >= .895:\n",
    "    recall_threshold_pairs.append((round(start,2), round(end,2)))\n",
    "    start += step\n",
    "    end -= step\n",
    "\n",
    "print(recall_threshold_pairs)"
   ]
  },
  {
   "cell_type": "code",
   "execution_count": 2,
   "metadata": {},
   "outputs": [],
   "source": [
    "cts = [\"HeLa\", \"A549\"]\n",
    "for ct in cts:\n",
    "    features, metadata = load_periscope(cell_type=ct)\n",
    "    embeddings = embed_by_pca(features.values, metadata, variance_or_ncomp=.98, plate_col=PERISCOPE_PLATE_COL)\n",
    "    for fn in [centerscale_on_controls, tvn_on_controls]:\n",
    "        embeddings = fn(embeddings, metadata, pert_col=PERISCOPE_PERT_LABEL_COL, control_key=PERISCOPE_CONTROL_PERT_LABEL, scale=True)\n",
    "        phenoprint_pvals = univariate_consistency_benchmark(embeddings, metadata, pert_col=PERISCOPE_PERT_LABEL_COL, keys_to_drop=[PERISCOPE_CONTROL_PERT_LABEL, 'negCtrl'])\n",
    "        map_data = aggregate(embeddings, metadata, pert_col=PERISCOPE_PERT_LABEL_COL, control_key=PERISCOPE_CONTROL_PERT_LABEL)\n",
    "        for right_sided in [True, False]:\n",
    "            metrics = multivariate_benchmark(map_data, recall_thr_pairs=recall_threshold_pairs, pert_col=PERISCOPE_PERT_LABEL_COL, n_null_samples = 10000, n_iterations = 1, right_sided=right_sided)\n",
    "            plot_recall({'PERISCOPE PCA map': metrics}, right_sided=right_sided)\n",
    "            print(metrics.groupby('source')['recall_0.05_0.95'].mean())"
   ]
  },
  {
   "cell_type": "code",
   "execution_count": null,
   "metadata": {},
   "outputs": [],
   "source": []
  }
 ],
 "metadata": {
  "kernelspec": {
   "display_name": "eben",
   "language": "python",
   "name": "python3"
  },
  "language_info": {
   "codemirror_mode": {
    "name": "ipython",
    "version": 3
   },
   "file_extension": ".py",
   "mimetype": "text/x-python",
   "name": "python",
   "nbconvert_exporter": "python",
   "pygments_lexer": "ipython3",
   "version": "3.11.5"
  }
 },
 "nbformat": 4,
 "nbformat_minor": 2
}
