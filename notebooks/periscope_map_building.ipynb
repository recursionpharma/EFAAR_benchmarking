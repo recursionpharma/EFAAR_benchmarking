{
 "cells": [
  {
   "cell_type": "code",
   "execution_count": null,
   "metadata": {},
   "outputs": [],
   "source": [
    "from efaar_benchmarking.data_loading import load_periscope\n",
    "from efaar_benchmarking.efaar import *\n",
    "from efaar_benchmarking.constants import *\n",
    "from efaar_benchmarking.benchmarking import benchmark\n",
    "from efaar_benchmarking.plotting import plot_recall\n",
    "\n",
    "recall_threshold_pairs = []\n",
    "start = 0.01\n",
    "end = 0.99\n",
    "step = 0.01\n",
    "\n",
    "while start <= .105 and end >= .895:\n",
    "    recall_threshold_pairs.append((round(start,2), round(end,2)))\n",
    "    start += step\n",
    "    end -= step\n",
    "\n",
    "print(recall_threshold_pairs)"
   ]
  },
  {
   "cell_type": "code",
   "execution_count": null,
   "metadata": {},
   "outputs": [],
   "source": [
    "ct = \"A549\"\n",
    "features, metadata = load_periscope(cell_type=ct, normalized=True)\n",
    "perts_to_filter = pd.read_csv(f\"data/{ct}_sig_perts_whole_cell.tsv\", sep='\\t').Gene.tolist() + ['nontargeting'] ## part of the supp table 2 of the paper on bioRxiv\n",
    "features, metadata = filter_to_perturbations(features, metadata, pert_col=PERISCOPE_PERT_LABEL_COL, perts=perts_to_filter)\n",
    "embeddings = embed_align_by_pca(features.values, metadata, variance_or_ncomp=None, plate_col=PERISCOPE_PLATE_COL)\n",
    "embeddings = align_on_controls(embeddings, metadata, pert_col=PERISCOPE_PERT_LABEL_COL, control_key=PERISCOPE_CONTROL_PERT_LABEL, scale=True)\n",
    "map_data = aggregate(embeddings, metadata, pert_col=PERISCOPE_PERT_LABEL_COL, control_key=PERISCOPE_CONTROL_PERT_LABEL)\n",
    "metrics = benchmark(map_data, recall_thr_pairs=recall_threshold_pairs, pert_label_col=PERISCOPE_PERT_LABEL_COL)\n",
    "plot_recall(metrics)\n",
    "metrics.groupby('source')['recall_0.05_0.95'].mean()"
   ]
  }
 ],
 "metadata": {
  "kernelspec": {
   "display_name": "eben",
   "language": "python",
   "name": "python3"
  },
  "language_info": {
   "codemirror_mode": {
    "name": "ipython",
    "version": 3
   },
   "file_extension": ".py",
   "mimetype": "text/x-python",
   "name": "python",
   "nbconvert_exporter": "python",
   "pygments_lexer": "ipython3",
   "version": "3.11.5"
  }
 },
 "nbformat": 4,
 "nbformat_minor": 2
}
