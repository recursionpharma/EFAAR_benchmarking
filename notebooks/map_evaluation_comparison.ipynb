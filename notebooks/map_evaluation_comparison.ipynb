{
 "cells": [
  {
   "cell_type": "markdown",
   "metadata": {},
   "source": [
    "## Imports"
   ]
  },
  {
   "cell_type": "code",
   "execution_count": 1,
   "metadata": {},
   "outputs": [
    {
     "name": "stderr",
     "output_type": "stream",
     "text": [
      "/Users/safiye.celik/.pyenv/versions/3.11.5/envs/eben/lib/python3.11/site-packages/scvi/_settings.py:63: UserWarning: Since v1.0.0, scvi-tools no longer uses a random seed by default. Run `scvi.settings.seed = 0` to reproduce results from previous versions.\n",
      "  self.seed = seed\n",
      "/Users/safiye.celik/.pyenv/versions/3.11.5/envs/eben/lib/python3.11/site-packages/scvi/_settings.py:70: UserWarning: Setting `dl_pin_memory_gpu_training` is deprecated in v1.0 and will be removed in v1.1. Please pass in `pin_memory` to the data loaders instead.\n",
      "  self.dl_pin_memory_gpu_training = (\n",
      "/Users/safiye.celik/.pyenv/versions/3.11.5/envs/eben/lib/python3.11/site-packages/tqdm/auto.py:21: TqdmWarning: IProgress not found. Please update jupyter and ipywidgets. See https://ipywidgets.readthedocs.io/en/stable/user_install.html\n",
      "  from .autonotebook import tqdm as notebook_tqdm\n"
     ]
    }
   ],
   "source": [
    "from efaar_benchmarking.data_loading import *\n",
    "from efaar_benchmarking.efaar import *\n",
    "from efaar_benchmarking.constants import *\n",
    "from efaar_benchmarking.benchmarking import *\n",
    "import pandas as pd\n",
    "from matplotlib_venn import venn3\n",
    "import matplotlib.pyplot as plt\n",
    "from upsetplotly import UpSetPlotly\n",
    "import pickle"
   ]
  },
  {
   "cell_type": "markdown",
   "metadata": {},
   "source": [
    "## Check overlaps of the benchmark annotation sources (Supp Fig 1)."
   ]
  },
  {
   "cell_type": "code",
   "execution_count": 2,
   "metadata": {},
   "outputs": [
    {
     "data": {
      "application/vnd.plotly.v1+json": {
       "config": {
        "plotlyServerURL": "https://plot.ly"
       },
       "data": [
        {
         "marker": {
          "color": "rgb(99, 110, 250)"
         },
         "type": "bar",
         "x": [
          "HuMAP",
          "StringDB",
          "CORUM",
          "Reactome",
          "SIGNOR",
          "CORUM & HuMAP & StringDB",
          "CORUM & StringDB",
          "HuMAP & StringDB",
          "Reactome & StringDB",
          "CORUM & HuMAP",
          "SIGNOR & StringDB",
          "Reactome & SIGNOR & StringDB",
          "CORUM & Reactome & StringDB",
          "Reactome & SIGNOR",
          "HuMAP & Reactome & StringDB",
          "CORUM & HuMAP & Reactome & StringDB",
          "CORUM & Reactome & SIGNOR & StringDB",
          "CORUM & Reactome",
          "CORUM & SIGNOR & StringDB",
          "CORUM & SIGNOR",
          "HuMAP & Reactome",
          "CORUM & HuMAP & Reactome & SIGNOR & StringDB",
          "HuMAP & SIGNOR & StringDB",
          "HuMAP & Reactome & SIGNOR & StringDB",
          "HuMAP & SIGNOR",
          "CORUM & HuMAP & SIGNOR & StringDB",
          "CORUM & Reactome & SIGNOR",
          "CORUM & HuMAP & Reactome",
          "CORUM & HuMAP & SIGNOR",
          "HuMAP & Reactome & SIGNOR",
          "CORUM & HuMAP & Reactome & SIGNOR"
         ],
         "xaxis": "x",
         "y": [
          42948,
          32099,
          19391,
          10998,
          8216,
          7529,
          5979,
          4214,
          3782,
          2735,
          1274,
          1012,
          783,
          448,
          430,
          419,
          260,
          255,
          114,
          95,
          68,
          54,
          51,
          41,
          21,
          18,
          8,
          5,
          3,
          1,
          1
         ],
         "yaxis": "y"
        }
       ],
       "layout": {
        "shapes": [
         {
          "fillcolor": "#ebf0f8",
          "line": {
           "width": 0
          },
          "type": "rect",
          "x0": 0,
          "x1": 1,
          "xref": "x2",
          "y0": 1,
          "y1": 0.8,
          "yref": "y2"
         },
         {
          "fillcolor": "#ced2d9",
          "line": {
           "width": 0
          },
          "type": "rect",
          "x0": 0,
          "x1": 1,
          "xref": "x2",
          "y0": 0.8,
          "y1": 0.6,
          "yref": "y2"
         },
         {
          "fillcolor": "#ebf0f8",
          "line": {
           "width": 0
          },
          "type": "rect",
          "x0": 0,
          "x1": 1,
          "xref": "x2",
          "y0": 0.6,
          "y1": 0.3999999999999999,
          "yref": "y2"
         },
         {
          "fillcolor": "#ced2d9",
          "line": {
           "width": 0
          },
          "type": "rect",
          "x0": 0,
          "x1": 1,
          "xref": "x2",
          "y0": 0.3999999999999999,
          "y1": 0.19999999999999996,
          "yref": "y2"
         },
         {
          "fillcolor": "#ebf0f8",
          "line": {
           "width": 0
          },
          "type": "rect",
          "x0": 0,
          "x1": 1,
          "xref": "x2",
          "y0": 0.19999999999999996,
          "y1": 0,
          "yref": "y2"
         },
         {
          "line": {
           "color": "white",
           "width": 1
          },
          "type": "line",
          "x0": 0,
          "x1": 1,
          "xref": "x2",
          "y0": 1,
          "y1": 1,
          "yref": "y2"
         },
         {
          "line": {
           "color": "white",
           "width": 1
          },
          "type": "line",
          "x0": 0,
          "x1": 1,
          "xref": "x2",
          "y0": 0.8,
          "y1": 0.8,
          "yref": "y2"
         },
         {
          "line": {
           "color": "white",
           "width": 1
          },
          "type": "line",
          "x0": 0,
          "x1": 1,
          "xref": "x2",
          "y0": 0.6,
          "y1": 0.6,
          "yref": "y2"
         },
         {
          "line": {
           "color": "white",
           "width": 1
          },
          "type": "line",
          "x0": 0,
          "x1": 1,
          "xref": "x2",
          "y0": 0.3999999999999999,
          "y1": 0.3999999999999999,
          "yref": "y2"
         },
         {
          "fillcolor": "rgb(99, 110, 250)",
          "line": {
           "color": "rgb(99, 110, 250)"
          },
          "opacity": 0.6,
          "type": "rect",
          "x0": 0.010806451612903226,
          "x1": 0.021451612903225805,
          "xref": "x2",
          "y0": 0.7,
          "y1": 0.7,
          "yref": "y2"
         },
         {
          "fillcolor": "rgb(99, 110, 250)",
          "line": {
           "color": "rgb(49, 60, 200)",
           "width": 1
          },
          "type": "circle",
          "x0": 0.005483870967741935,
          "x1": 0.026774193548387094,
          "xref": "x2",
          "y0": 0.6339999999999999,
          "y1": 0.766,
          "yref": "y2"
         },
         {
          "fillcolor": "rgb(99, 110, 250)",
          "line": {
           "color": "rgb(99, 110, 250)"
          },
          "opacity": 0.6,
          "type": "rect",
          "x0": 0.043064516129032254,
          "x1": 0.05370967741935484,
          "xref": "x2",
          "y0": 0.09999999999999998,
          "y1": 0.09999999999999998,
          "yref": "y2"
         },
         {
          "fillcolor": "rgb(99, 110, 250)",
          "line": {
           "color": "rgb(49, 60, 200)",
           "width": 1
          },
          "type": "circle",
          "x0": 0.03774193548387097,
          "x1": 0.059032258064516126,
          "xref": "x2",
          "y0": 0.033999999999999975,
          "y1": 0.16599999999999998,
          "yref": "y2"
         },
         {
          "fillcolor": "rgb(99, 110, 250)",
          "line": {
           "color": "rgb(99, 110, 250)"
          },
          "opacity": 0.6,
          "type": "rect",
          "x0": 0.07532258064516129,
          "x1": 0.08596774193548387,
          "xref": "x2",
          "y0": 0.9,
          "y1": 0.9,
          "yref": "y2"
         },
         {
          "fillcolor": "rgb(99, 110, 250)",
          "line": {
           "color": "rgb(49, 60, 200)",
           "width": 1
          },
          "type": "circle",
          "x0": 0.06999999999999999,
          "x1": 0.09129032258064516,
          "xref": "x2",
          "y0": 0.8340000000000001,
          "y1": 0.966,
          "yref": "y2"
         },
         {
          "fillcolor": "rgb(99, 110, 250)",
          "line": {
           "color": "rgb(99, 110, 250)"
          },
          "opacity": 0.6,
          "type": "rect",
          "x0": 0.10758064516129032,
          "x1": 0.1182258064516129,
          "xref": "x2",
          "y0": 0.49999999999999994,
          "y1": 0.49999999999999994,
          "yref": "y2"
         },
         {
          "fillcolor": "rgb(99, 110, 250)",
          "line": {
           "color": "rgb(49, 60, 200)",
           "width": 1
          },
          "type": "circle",
          "x0": 0.10225806451612902,
          "x1": 0.1235483870967742,
          "xref": "x2",
          "y0": 0.43399999999999994,
          "y1": 0.566,
          "yref": "y2"
         },
         {
          "fillcolor": "rgb(99, 110, 250)",
          "line": {
           "color": "rgb(99, 110, 250)"
          },
          "opacity": 0.6,
          "type": "rect",
          "x0": 0.13983870967741935,
          "x1": 0.1504838709677419,
          "xref": "x2",
          "y0": 0.29999999999999993,
          "y1": 0.29999999999999993,
          "yref": "y2"
         },
         {
          "fillcolor": "rgb(99, 110, 250)",
          "line": {
           "color": "rgb(49, 60, 200)",
           "width": 1
          },
          "type": "circle",
          "x0": 0.13451612903225804,
          "x1": 0.1558064516129032,
          "xref": "x2",
          "y0": 0.23399999999999993,
          "y1": 0.36599999999999994,
          "yref": "y2"
         },
         {
          "fillcolor": "rgb(99, 110, 250)",
          "line": {
           "color": "rgb(99, 110, 250)"
          },
          "opacity": 0.6,
          "type": "rect",
          "x0": 0.1720967741935484,
          "x1": 0.18274193548387097,
          "xref": "x2",
          "y0": 0.09999999999999998,
          "y1": 0.9,
          "yref": "y2"
         },
         {
          "fillcolor": "rgb(99, 110, 250)",
          "line": {
           "color": "rgb(49, 60, 200)",
           "width": 1
          },
          "type": "circle",
          "x0": 0.1667741935483871,
          "x1": 0.18806451612903227,
          "xref": "x2",
          "y0": 0.8340000000000001,
          "y1": 0.966,
          "yref": "y2"
         },
         {
          "fillcolor": "rgb(99, 110, 250)",
          "line": {
           "color": "rgb(49, 60, 200)",
           "width": 1
          },
          "type": "circle",
          "x0": 0.1667741935483871,
          "x1": 0.18806451612903227,
          "xref": "x2",
          "y0": 0.6339999999999999,
          "y1": 0.766,
          "yref": "y2"
         },
         {
          "fillcolor": "rgb(99, 110, 250)",
          "line": {
           "color": "rgb(49, 60, 200)",
           "width": 1
          },
          "type": "circle",
          "x0": 0.1667741935483871,
          "x1": 0.18806451612903227,
          "xref": "x2",
          "y0": 0.033999999999999975,
          "y1": 0.16599999999999998,
          "yref": "y2"
         },
         {
          "fillcolor": "rgb(99, 110, 250)",
          "line": {
           "color": "rgb(99, 110, 250)"
          },
          "opacity": 0.6,
          "type": "rect",
          "x0": 0.2043548387096774,
          "x1": 0.21499999999999997,
          "xref": "x2",
          "y0": 0.09999999999999998,
          "y1": 0.9,
          "yref": "y2"
         },
         {
          "fillcolor": "rgb(99, 110, 250)",
          "line": {
           "color": "rgb(49, 60, 200)",
           "width": 1
          },
          "type": "circle",
          "x0": 0.1990322580645161,
          "x1": 0.22032258064516128,
          "xref": "x2",
          "y0": 0.8340000000000001,
          "y1": 0.966,
          "yref": "y2"
         },
         {
          "fillcolor": "rgb(99, 110, 250)",
          "line": {
           "color": "rgb(49, 60, 200)",
           "width": 1
          },
          "type": "circle",
          "x0": 0.1990322580645161,
          "x1": 0.22032258064516128,
          "xref": "x2",
          "y0": 0.033999999999999975,
          "y1": 0.16599999999999998,
          "yref": "y2"
         },
         {
          "fillcolor": "rgb(99, 110, 250)",
          "line": {
           "color": "rgb(99, 110, 250)"
          },
          "opacity": 0.6,
          "type": "rect",
          "x0": 0.23661290322580647,
          "x1": 0.24725806451612903,
          "xref": "x2",
          "y0": 0.09999999999999998,
          "y1": 0.7,
          "yref": "y2"
         },
         {
          "fillcolor": "rgb(99, 110, 250)",
          "line": {
           "color": "rgb(49, 60, 200)",
           "width": 1
          },
          "type": "circle",
          "x0": 0.23129032258064516,
          "x1": 0.2525806451612903,
          "xref": "x2",
          "y0": 0.6339999999999999,
          "y1": 0.766,
          "yref": "y2"
         },
         {
          "fillcolor": "rgb(99, 110, 250)",
          "line": {
           "color": "rgb(49, 60, 200)",
           "width": 1
          },
          "type": "circle",
          "x0": 0.23129032258064516,
          "x1": 0.2525806451612903,
          "xref": "x2",
          "y0": 0.033999999999999975,
          "y1": 0.16599999999999998,
          "yref": "y2"
         },
         {
          "fillcolor": "rgb(99, 110, 250)",
          "line": {
           "color": "rgb(99, 110, 250)"
          },
          "opacity": 0.6,
          "type": "rect",
          "x0": 0.2688709677419355,
          "x1": 0.27951612903225803,
          "xref": "x2",
          "y0": 0.09999999999999998,
          "y1": 0.49999999999999994,
          "yref": "y2"
         },
         {
          "fillcolor": "rgb(99, 110, 250)",
          "line": {
           "color": "rgb(49, 60, 200)",
           "width": 1
          },
          "type": "circle",
          "x0": 0.2635483870967742,
          "x1": 0.2848387096774193,
          "xref": "x2",
          "y0": 0.43399999999999994,
          "y1": 0.566,
          "yref": "y2"
         },
         {
          "fillcolor": "rgb(99, 110, 250)",
          "line": {
           "color": "rgb(49, 60, 200)",
           "width": 1
          },
          "type": "circle",
          "x0": 0.2635483870967742,
          "x1": 0.2848387096774193,
          "xref": "x2",
          "y0": 0.033999999999999975,
          "y1": 0.16599999999999998,
          "yref": "y2"
         },
         {
          "fillcolor": "rgb(99, 110, 250)",
          "line": {
           "color": "rgb(99, 110, 250)"
          },
          "opacity": 0.6,
          "type": "rect",
          "x0": 0.3011290322580645,
          "x1": 0.31177419354838704,
          "xref": "x2",
          "y0": 0.7,
          "y1": 0.9,
          "yref": "y2"
         },
         {
          "fillcolor": "rgb(99, 110, 250)",
          "line": {
           "color": "rgb(49, 60, 200)",
           "width": 1
          },
          "type": "circle",
          "x0": 0.2958064516129032,
          "x1": 0.3170967741935483,
          "xref": "x2",
          "y0": 0.8340000000000001,
          "y1": 0.966,
          "yref": "y2"
         },
         {
          "fillcolor": "rgb(99, 110, 250)",
          "line": {
           "color": "rgb(49, 60, 200)",
           "width": 1
          },
          "type": "circle",
          "x0": 0.2958064516129032,
          "x1": 0.3170967741935483,
          "xref": "x2",
          "y0": 0.6339999999999999,
          "y1": 0.766,
          "yref": "y2"
         },
         {
          "fillcolor": "rgb(99, 110, 250)",
          "line": {
           "color": "rgb(99, 110, 250)"
          },
          "opacity": 0.6,
          "type": "rect",
          "x0": 0.3333870967741936,
          "x1": 0.34403225806451615,
          "xref": "x2",
          "y0": 0.09999999999999998,
          "y1": 0.29999999999999993,
          "yref": "y2"
         },
         {
          "fillcolor": "rgb(99, 110, 250)",
          "line": {
           "color": "rgb(49, 60, 200)",
           "width": 1
          },
          "type": "circle",
          "x0": 0.3280645161290323,
          "x1": 0.34935483870967743,
          "xref": "x2",
          "y0": 0.23399999999999993,
          "y1": 0.36599999999999994,
          "yref": "y2"
         },
         {
          "fillcolor": "rgb(99, 110, 250)",
          "line": {
           "color": "rgb(49, 60, 200)",
           "width": 1
          },
          "type": "circle",
          "x0": 0.3280645161290323,
          "x1": 0.34935483870967743,
          "xref": "x2",
          "y0": 0.033999999999999975,
          "y1": 0.16599999999999998,
          "yref": "y2"
         },
         {
          "fillcolor": "rgb(99, 110, 250)",
          "line": {
           "color": "rgb(99, 110, 250)"
          },
          "opacity": 0.6,
          "type": "rect",
          "x0": 0.3656451612903226,
          "x1": 0.37629032258064515,
          "xref": "x2",
          "y0": 0.09999999999999998,
          "y1": 0.49999999999999994,
          "yref": "y2"
         },
         {
          "fillcolor": "rgb(99, 110, 250)",
          "line": {
           "color": "rgb(49, 60, 200)",
           "width": 1
          },
          "type": "circle",
          "x0": 0.3603225806451613,
          "x1": 0.38161290322580643,
          "xref": "x2",
          "y0": 0.43399999999999994,
          "y1": 0.566,
          "yref": "y2"
         },
         {
          "fillcolor": "rgb(99, 110, 250)",
          "line": {
           "color": "rgb(49, 60, 200)",
           "width": 1
          },
          "type": "circle",
          "x0": 0.3603225806451613,
          "x1": 0.38161290322580643,
          "xref": "x2",
          "y0": 0.23399999999999993,
          "y1": 0.36599999999999994,
          "yref": "y2"
         },
         {
          "fillcolor": "rgb(99, 110, 250)",
          "line": {
           "color": "rgb(49, 60, 200)",
           "width": 1
          },
          "type": "circle",
          "x0": 0.3603225806451613,
          "x1": 0.38161290322580643,
          "xref": "x2",
          "y0": 0.033999999999999975,
          "y1": 0.16599999999999998,
          "yref": "y2"
         },
         {
          "fillcolor": "rgb(99, 110, 250)",
          "line": {
           "color": "rgb(99, 110, 250)"
          },
          "opacity": 0.6,
          "type": "rect",
          "x0": 0.3979032258064516,
          "x1": 0.40854838709677416,
          "xref": "x2",
          "y0": 0.09999999999999998,
          "y1": 0.9,
          "yref": "y2"
         },
         {
          "fillcolor": "rgb(99, 110, 250)",
          "line": {
           "color": "rgb(49, 60, 200)",
           "width": 1
          },
          "type": "circle",
          "x0": 0.3925806451612903,
          "x1": 0.41387096774193544,
          "xref": "x2",
          "y0": 0.8340000000000001,
          "y1": 0.966,
          "yref": "y2"
         },
         {
          "fillcolor": "rgb(99, 110, 250)",
          "line": {
           "color": "rgb(49, 60, 200)",
           "width": 1
          },
          "type": "circle",
          "x0": 0.3925806451612903,
          "x1": 0.41387096774193544,
          "xref": "x2",
          "y0": 0.43399999999999994,
          "y1": 0.566,
          "yref": "y2"
         },
         {
          "fillcolor": "rgb(99, 110, 250)",
          "line": {
           "color": "rgb(49, 60, 200)",
           "width": 1
          },
          "type": "circle",
          "x0": 0.3925806451612903,
          "x1": 0.41387096774193544,
          "xref": "x2",
          "y0": 0.033999999999999975,
          "y1": 0.16599999999999998,
          "yref": "y2"
         },
         {
          "fillcolor": "rgb(99, 110, 250)",
          "line": {
           "color": "rgb(99, 110, 250)"
          },
          "opacity": 0.6,
          "type": "rect",
          "x0": 0.4301612903225806,
          "x1": 0.44080645161290316,
          "xref": "x2",
          "y0": 0.29999999999999993,
          "y1": 0.49999999999999994,
          "yref": "y2"
         },
         {
          "fillcolor": "rgb(99, 110, 250)",
          "line": {
           "color": "rgb(49, 60, 200)",
           "width": 1
          },
          "type": "circle",
          "x0": 0.4248387096774193,
          "x1": 0.44612903225806444,
          "xref": "x2",
          "y0": 0.43399999999999994,
          "y1": 0.566,
          "yref": "y2"
         },
         {
          "fillcolor": "rgb(99, 110, 250)",
          "line": {
           "color": "rgb(49, 60, 200)",
           "width": 1
          },
          "type": "circle",
          "x0": 0.4248387096774193,
          "x1": 0.44612903225806444,
          "xref": "x2",
          "y0": 0.23399999999999993,
          "y1": 0.36599999999999994,
          "yref": "y2"
         },
         {
          "fillcolor": "rgb(99, 110, 250)",
          "line": {
           "color": "rgb(99, 110, 250)"
          },
          "opacity": 0.6,
          "type": "rect",
          "x0": 0.4624193548387097,
          "x1": 0.4730645161290323,
          "xref": "x2",
          "y0": 0.09999999999999998,
          "y1": 0.7,
          "yref": "y2"
         },
         {
          "fillcolor": "rgb(99, 110, 250)",
          "line": {
           "color": "rgb(49, 60, 200)",
           "width": 1
          },
          "type": "circle",
          "x0": 0.45709677419354844,
          "x1": 0.47838709677419355,
          "xref": "x2",
          "y0": 0.6339999999999999,
          "y1": 0.766,
          "yref": "y2"
         },
         {
          "fillcolor": "rgb(99, 110, 250)",
          "line": {
           "color": "rgb(49, 60, 200)",
           "width": 1
          },
          "type": "circle",
          "x0": 0.45709677419354844,
          "x1": 0.47838709677419355,
          "xref": "x2",
          "y0": 0.43399999999999994,
          "y1": 0.566,
          "yref": "y2"
         },
         {
          "fillcolor": "rgb(99, 110, 250)",
          "line": {
           "color": "rgb(49, 60, 200)",
           "width": 1
          },
          "type": "circle",
          "x0": 0.45709677419354844,
          "x1": 0.47838709677419355,
          "xref": "x2",
          "y0": 0.033999999999999975,
          "y1": 0.16599999999999998,
          "yref": "y2"
         },
         {
          "fillcolor": "rgb(99, 110, 250)",
          "line": {
           "color": "rgb(99, 110, 250)"
          },
          "opacity": 0.6,
          "type": "rect",
          "x0": 0.4946774193548387,
          "x1": 0.5053225806451613,
          "xref": "x2",
          "y0": 0.09999999999999998,
          "y1": 0.9,
          "yref": "y2"
         },
         {
          "fillcolor": "rgb(99, 110, 250)",
          "line": {
           "color": "rgb(49, 60, 200)",
           "width": 1
          },
          "type": "circle",
          "x0": 0.48935483870967744,
          "x1": 0.5106451612903226,
          "xref": "x2",
          "y0": 0.8340000000000001,
          "y1": 0.966,
          "yref": "y2"
         },
         {
          "fillcolor": "rgb(99, 110, 250)",
          "line": {
           "color": "rgb(49, 60, 200)",
           "width": 1
          },
          "type": "circle",
          "x0": 0.48935483870967744,
          "x1": 0.5106451612903226,
          "xref": "x2",
          "y0": 0.6339999999999999,
          "y1": 0.766,
          "yref": "y2"
         },
         {
          "fillcolor": "rgb(99, 110, 250)",
          "line": {
           "color": "rgb(49, 60, 200)",
           "width": 1
          },
          "type": "circle",
          "x0": 0.48935483870967744,
          "x1": 0.5106451612903226,
          "xref": "x2",
          "y0": 0.43399999999999994,
          "y1": 0.566,
          "yref": "y2"
         },
         {
          "fillcolor": "rgb(99, 110, 250)",
          "line": {
           "color": "rgb(49, 60, 200)",
           "width": 1
          },
          "type": "circle",
          "x0": 0.48935483870967744,
          "x1": 0.5106451612903226,
          "xref": "x2",
          "y0": 0.033999999999999975,
          "y1": 0.16599999999999998,
          "yref": "y2"
         },
         {
          "fillcolor": "rgb(99, 110, 250)",
          "line": {
           "color": "rgb(99, 110, 250)"
          },
          "opacity": 0.6,
          "type": "rect",
          "x0": 0.5269354838709677,
          "x1": 0.5375806451612903,
          "xref": "x2",
          "y0": 0.09999999999999998,
          "y1": 0.9,
          "yref": "y2"
         },
         {
          "fillcolor": "rgb(99, 110, 250)",
          "line": {
           "color": "rgb(49, 60, 200)",
           "width": 1
          },
          "type": "circle",
          "x0": 0.5216129032258064,
          "x1": 0.5429032258064516,
          "xref": "x2",
          "y0": 0.8340000000000001,
          "y1": 0.966,
          "yref": "y2"
         },
         {
          "fillcolor": "rgb(99, 110, 250)",
          "line": {
           "color": "rgb(49, 60, 200)",
           "width": 1
          },
          "type": "circle",
          "x0": 0.5216129032258064,
          "x1": 0.5429032258064516,
          "xref": "x2",
          "y0": 0.43399999999999994,
          "y1": 0.566,
          "yref": "y2"
         },
         {
          "fillcolor": "rgb(99, 110, 250)",
          "line": {
           "color": "rgb(49, 60, 200)",
           "width": 1
          },
          "type": "circle",
          "x0": 0.5216129032258064,
          "x1": 0.5429032258064516,
          "xref": "x2",
          "y0": 0.23399999999999993,
          "y1": 0.36599999999999994,
          "yref": "y2"
         },
         {
          "fillcolor": "rgb(99, 110, 250)",
          "line": {
           "color": "rgb(49, 60, 200)",
           "width": 1
          },
          "type": "circle",
          "x0": 0.5216129032258064,
          "x1": 0.5429032258064516,
          "xref": "x2",
          "y0": 0.033999999999999975,
          "y1": 0.16599999999999998,
          "yref": "y2"
         },
         {
          "fillcolor": "rgb(99, 110, 250)",
          "line": {
           "color": "rgb(99, 110, 250)"
          },
          "opacity": 0.6,
          "type": "rect",
          "x0": 0.5591935483870967,
          "x1": 0.5698387096774193,
          "xref": "x2",
          "y0": 0.49999999999999994,
          "y1": 0.9,
          "yref": "y2"
         },
         {
          "fillcolor": "rgb(99, 110, 250)",
          "line": {
           "color": "rgb(49, 60, 200)",
           "width": 1
          },
          "type": "circle",
          "x0": 0.5538709677419354,
          "x1": 0.5751612903225806,
          "xref": "x2",
          "y0": 0.8340000000000001,
          "y1": 0.966,
          "yref": "y2"
         },
         {
          "fillcolor": "rgb(99, 110, 250)",
          "line": {
           "color": "rgb(49, 60, 200)",
           "width": 1
          },
          "type": "circle",
          "x0": 0.5538709677419354,
          "x1": 0.5751612903225806,
          "xref": "x2",
          "y0": 0.43399999999999994,
          "y1": 0.566,
          "yref": "y2"
         },
         {
          "fillcolor": "rgb(99, 110, 250)",
          "line": {
           "color": "rgb(99, 110, 250)"
          },
          "opacity": 0.6,
          "type": "rect",
          "x0": 0.5914516129032257,
          "x1": 0.6020967741935483,
          "xref": "x2",
          "y0": 0.09999999999999998,
          "y1": 0.9,
          "yref": "y2"
         },
         {
          "fillcolor": "rgb(99, 110, 250)",
          "line": {
           "color": "rgb(49, 60, 200)",
           "width": 1
          },
          "type": "circle",
          "x0": 0.5861290322580645,
          "x1": 0.6074193548387096,
          "xref": "x2",
          "y0": 0.8340000000000001,
          "y1": 0.966,
          "yref": "y2"
         },
         {
          "fillcolor": "rgb(99, 110, 250)",
          "line": {
           "color": "rgb(49, 60, 200)",
           "width": 1
          },
          "type": "circle",
          "x0": 0.5861290322580645,
          "x1": 0.6074193548387096,
          "xref": "x2",
          "y0": 0.23399999999999993,
          "y1": 0.36599999999999994,
          "yref": "y2"
         },
         {
          "fillcolor": "rgb(99, 110, 250)",
          "line": {
           "color": "rgb(49, 60, 200)",
           "width": 1
          },
          "type": "circle",
          "x0": 0.5861290322580645,
          "x1": 0.6074193548387096,
          "xref": "x2",
          "y0": 0.033999999999999975,
          "y1": 0.16599999999999998,
          "yref": "y2"
         },
         {
          "fillcolor": "rgb(99, 110, 250)",
          "line": {
           "color": "rgb(99, 110, 250)"
          },
          "opacity": 0.6,
          "type": "rect",
          "x0": 0.6237096774193548,
          "x1": 0.6343548387096775,
          "xref": "x2",
          "y0": 0.29999999999999993,
          "y1": 0.9,
          "yref": "y2"
         },
         {
          "fillcolor": "rgb(99, 110, 250)",
          "line": {
           "color": "rgb(49, 60, 200)",
           "width": 1
          },
          "type": "circle",
          "x0": 0.6183870967741936,
          "x1": 0.6396774193548387,
          "xref": "x2",
          "y0": 0.8340000000000001,
          "y1": 0.966,
          "yref": "y2"
         },
         {
          "fillcolor": "rgb(99, 110, 250)",
          "line": {
           "color": "rgb(49, 60, 200)",
           "width": 1
          },
          "type": "circle",
          "x0": 0.6183870967741936,
          "x1": 0.6396774193548387,
          "xref": "x2",
          "y0": 0.23399999999999993,
          "y1": 0.36599999999999994,
          "yref": "y2"
         },
         {
          "fillcolor": "rgb(99, 110, 250)",
          "line": {
           "color": "rgb(99, 110, 250)"
          },
          "opacity": 0.6,
          "type": "rect",
          "x0": 0.6559677419354838,
          "x1": 0.6666129032258065,
          "xref": "x2",
          "y0": 0.49999999999999994,
          "y1": 0.7,
          "yref": "y2"
         },
         {
          "fillcolor": "rgb(99, 110, 250)",
          "line": {
           "color": "rgb(49, 60, 200)",
           "width": 1
          },
          "type": "circle",
          "x0": 0.6506451612903226,
          "x1": 0.6719354838709677,
          "xref": "x2",
          "y0": 0.6339999999999999,
          "y1": 0.766,
          "yref": "y2"
         },
         {
          "fillcolor": "rgb(99, 110, 250)",
          "line": {
           "color": "rgb(49, 60, 200)",
           "width": 1
          },
          "type": "circle",
          "x0": 0.6506451612903226,
          "x1": 0.6719354838709677,
          "xref": "x2",
          "y0": 0.43399999999999994,
          "y1": 0.566,
          "yref": "y2"
         },
         {
          "fillcolor": "rgb(99, 110, 250)",
          "line": {
           "color": "rgb(99, 110, 250)"
          },
          "opacity": 0.6,
          "type": "rect",
          "x0": 0.6882258064516129,
          "x1": 0.6988709677419356,
          "xref": "x2",
          "y0": 0.09999999999999998,
          "y1": 0.9,
          "yref": "y2"
         },
         {
          "fillcolor": "rgb(99, 110, 250)",
          "line": {
           "color": "rgb(49, 60, 200)",
           "width": 1
          },
          "type": "circle",
          "x0": 0.6829032258064517,
          "x1": 0.7041935483870968,
          "xref": "x2",
          "y0": 0.8340000000000001,
          "y1": 0.966,
          "yref": "y2"
         },
         {
          "fillcolor": "rgb(99, 110, 250)",
          "line": {
           "color": "rgb(49, 60, 200)",
           "width": 1
          },
          "type": "circle",
          "x0": 0.6829032258064517,
          "x1": 0.7041935483870968,
          "xref": "x2",
          "y0": 0.6339999999999999,
          "y1": 0.766,
          "yref": "y2"
         },
         {
          "fillcolor": "rgb(99, 110, 250)",
          "line": {
           "color": "rgb(49, 60, 200)",
           "width": 1
          },
          "type": "circle",
          "x0": 0.6829032258064517,
          "x1": 0.7041935483870968,
          "xref": "x2",
          "y0": 0.43399999999999994,
          "y1": 0.566,
          "yref": "y2"
         },
         {
          "fillcolor": "rgb(99, 110, 250)",
          "line": {
           "color": "rgb(49, 60, 200)",
           "width": 1
          },
          "type": "circle",
          "x0": 0.6829032258064517,
          "x1": 0.7041935483870968,
          "xref": "x2",
          "y0": 0.23399999999999993,
          "y1": 0.36599999999999994,
          "yref": "y2"
         },
         {
          "fillcolor": "rgb(99, 110, 250)",
          "line": {
           "color": "rgb(49, 60, 200)",
           "width": 1
          },
          "type": "circle",
          "x0": 0.6829032258064517,
          "x1": 0.7041935483870968,
          "xref": "x2",
          "y0": 0.033999999999999975,
          "y1": 0.16599999999999998,
          "yref": "y2"
         },
         {
          "fillcolor": "rgb(99, 110, 250)",
          "line": {
           "color": "rgb(99, 110, 250)"
          },
          "opacity": 0.6,
          "type": "rect",
          "x0": 0.7204838709677419,
          "x1": 0.7311290322580646,
          "xref": "x2",
          "y0": 0.09999999999999998,
          "y1": 0.7,
          "yref": "y2"
         },
         {
          "fillcolor": "rgb(99, 110, 250)",
          "line": {
           "color": "rgb(49, 60, 200)",
           "width": 1
          },
          "type": "circle",
          "x0": 0.7151612903225807,
          "x1": 0.7364516129032258,
          "xref": "x2",
          "y0": 0.6339999999999999,
          "y1": 0.766,
          "yref": "y2"
         },
         {
          "fillcolor": "rgb(99, 110, 250)",
          "line": {
           "color": "rgb(49, 60, 200)",
           "width": 1
          },
          "type": "circle",
          "x0": 0.7151612903225807,
          "x1": 0.7364516129032258,
          "xref": "x2",
          "y0": 0.23399999999999993,
          "y1": 0.36599999999999994,
          "yref": "y2"
         },
         {
          "fillcolor": "rgb(99, 110, 250)",
          "line": {
           "color": "rgb(49, 60, 200)",
           "width": 1
          },
          "type": "circle",
          "x0": 0.7151612903225807,
          "x1": 0.7364516129032258,
          "xref": "x2",
          "y0": 0.033999999999999975,
          "y1": 0.16599999999999998,
          "yref": "y2"
         },
         {
          "fillcolor": "rgb(99, 110, 250)",
          "line": {
           "color": "rgb(99, 110, 250)"
          },
          "opacity": 0.6,
          "type": "rect",
          "x0": 0.7527419354838709,
          "x1": 0.7633870967741936,
          "xref": "x2",
          "y0": 0.09999999999999998,
          "y1": 0.7,
          "yref": "y2"
         },
         {
          "fillcolor": "rgb(99, 110, 250)",
          "line": {
           "color": "rgb(49, 60, 200)",
           "width": 1
          },
          "type": "circle",
          "x0": 0.7474193548387097,
          "x1": 0.7687096774193548,
          "xref": "x2",
          "y0": 0.6339999999999999,
          "y1": 0.766,
          "yref": "y2"
         },
         {
          "fillcolor": "rgb(99, 110, 250)",
          "line": {
           "color": "rgb(49, 60, 200)",
           "width": 1
          },
          "type": "circle",
          "x0": 0.7474193548387097,
          "x1": 0.7687096774193548,
          "xref": "x2",
          "y0": 0.43399999999999994,
          "y1": 0.566,
          "yref": "y2"
         },
         {
          "fillcolor": "rgb(99, 110, 250)",
          "line": {
           "color": "rgb(49, 60, 200)",
           "width": 1
          },
          "type": "circle",
          "x0": 0.7474193548387097,
          "x1": 0.7687096774193548,
          "xref": "x2",
          "y0": 0.23399999999999993,
          "y1": 0.36599999999999994,
          "yref": "y2"
         },
         {
          "fillcolor": "rgb(99, 110, 250)",
          "line": {
           "color": "rgb(49, 60, 200)",
           "width": 1
          },
          "type": "circle",
          "x0": 0.7474193548387097,
          "x1": 0.7687096774193548,
          "xref": "x2",
          "y0": 0.033999999999999975,
          "y1": 0.16599999999999998,
          "yref": "y2"
         },
         {
          "fillcolor": "rgb(99, 110, 250)",
          "line": {
           "color": "rgb(99, 110, 250)"
          },
          "opacity": 0.6,
          "type": "rect",
          "x0": 0.7849999999999999,
          "x1": 0.7956451612903226,
          "xref": "x2",
          "y0": 0.29999999999999993,
          "y1": 0.7,
          "yref": "y2"
         },
         {
          "fillcolor": "rgb(99, 110, 250)",
          "line": {
           "color": "rgb(49, 60, 200)",
           "width": 1
          },
          "type": "circle",
          "x0": 0.7796774193548387,
          "x1": 0.8009677419354838,
          "xref": "x2",
          "y0": 0.6339999999999999,
          "y1": 0.766,
          "yref": "y2"
         },
         {
          "fillcolor": "rgb(99, 110, 250)",
          "line": {
           "color": "rgb(49, 60, 200)",
           "width": 1
          },
          "type": "circle",
          "x0": 0.7796774193548387,
          "x1": 0.8009677419354838,
          "xref": "x2",
          "y0": 0.23399999999999993,
          "y1": 0.36599999999999994,
          "yref": "y2"
         },
         {
          "fillcolor": "rgb(99, 110, 250)",
          "line": {
           "color": "rgb(99, 110, 250)"
          },
          "opacity": 0.6,
          "type": "rect",
          "x0": 0.8172580645161289,
          "x1": 0.8279032258064516,
          "xref": "x2",
          "y0": 0.09999999999999998,
          "y1": 0.9,
          "yref": "y2"
         },
         {
          "fillcolor": "rgb(99, 110, 250)",
          "line": {
           "color": "rgb(49, 60, 200)",
           "width": 1
          },
          "type": "circle",
          "x0": 0.8119354838709677,
          "x1": 0.8332258064516128,
          "xref": "x2",
          "y0": 0.8340000000000001,
          "y1": 0.966,
          "yref": "y2"
         },
         {
          "fillcolor": "rgb(99, 110, 250)",
          "line": {
           "color": "rgb(49, 60, 200)",
           "width": 1
          },
          "type": "circle",
          "x0": 0.8119354838709677,
          "x1": 0.8332258064516128,
          "xref": "x2",
          "y0": 0.6339999999999999,
          "y1": 0.766,
          "yref": "y2"
         },
         {
          "fillcolor": "rgb(99, 110, 250)",
          "line": {
           "color": "rgb(49, 60, 200)",
           "width": 1
          },
          "type": "circle",
          "x0": 0.8119354838709677,
          "x1": 0.8332258064516128,
          "xref": "x2",
          "y0": 0.23399999999999993,
          "y1": 0.36599999999999994,
          "yref": "y2"
         },
         {
          "fillcolor": "rgb(99, 110, 250)",
          "line": {
           "color": "rgb(49, 60, 200)",
           "width": 1
          },
          "type": "circle",
          "x0": 0.8119354838709677,
          "x1": 0.8332258064516128,
          "xref": "x2",
          "y0": 0.033999999999999975,
          "y1": 0.16599999999999998,
          "yref": "y2"
         },
         {
          "fillcolor": "rgb(99, 110, 250)",
          "line": {
           "color": "rgb(99, 110, 250)"
          },
          "opacity": 0.6,
          "type": "rect",
          "x0": 0.8495161290322579,
          "x1": 0.8601612903225806,
          "xref": "x2",
          "y0": 0.29999999999999993,
          "y1": 0.9,
          "yref": "y2"
         },
         {
          "fillcolor": "rgb(99, 110, 250)",
          "line": {
           "color": "rgb(49, 60, 200)",
           "width": 1
          },
          "type": "circle",
          "x0": 0.8441935483870967,
          "x1": 0.8654838709677418,
          "xref": "x2",
          "y0": 0.8340000000000001,
          "y1": 0.966,
          "yref": "y2"
         },
         {
          "fillcolor": "rgb(99, 110, 250)",
          "line": {
           "color": "rgb(49, 60, 200)",
           "width": 1
          },
          "type": "circle",
          "x0": 0.8441935483870967,
          "x1": 0.8654838709677418,
          "xref": "x2",
          "y0": 0.43399999999999994,
          "y1": 0.566,
          "yref": "y2"
         },
         {
          "fillcolor": "rgb(99, 110, 250)",
          "line": {
           "color": "rgb(49, 60, 200)",
           "width": 1
          },
          "type": "circle",
          "x0": 0.8441935483870967,
          "x1": 0.8654838709677418,
          "xref": "x2",
          "y0": 0.23399999999999993,
          "y1": 0.36599999999999994,
          "yref": "y2"
         },
         {
          "fillcolor": "rgb(99, 110, 250)",
          "line": {
           "color": "rgb(99, 110, 250)"
          },
          "opacity": 0.6,
          "type": "rect",
          "x0": 0.881774193548387,
          "x1": 0.8924193548387097,
          "xref": "x2",
          "y0": 0.49999999999999994,
          "y1": 0.9,
          "yref": "y2"
         },
         {
          "fillcolor": "rgb(99, 110, 250)",
          "line": {
           "color": "rgb(49, 60, 200)",
           "width": 1
          },
          "type": "circle",
          "x0": 0.8764516129032258,
          "x1": 0.8977419354838709,
          "xref": "x2",
          "y0": 0.8340000000000001,
          "y1": 0.966,
          "yref": "y2"
         },
         {
          "fillcolor": "rgb(99, 110, 250)",
          "line": {
           "color": "rgb(49, 60, 200)",
           "width": 1
          },
          "type": "circle",
          "x0": 0.8764516129032258,
          "x1": 0.8977419354838709,
          "xref": "x2",
          "y0": 0.6339999999999999,
          "y1": 0.766,
          "yref": "y2"
         },
         {
          "fillcolor": "rgb(99, 110, 250)",
          "line": {
           "color": "rgb(49, 60, 200)",
           "width": 1
          },
          "type": "circle",
          "x0": 0.8764516129032258,
          "x1": 0.8977419354838709,
          "xref": "x2",
          "y0": 0.43399999999999994,
          "y1": 0.566,
          "yref": "y2"
         },
         {
          "fillcolor": "rgb(99, 110, 250)",
          "line": {
           "color": "rgb(99, 110, 250)"
          },
          "opacity": 0.6,
          "type": "rect",
          "x0": 0.914032258064516,
          "x1": 0.9246774193548387,
          "xref": "x2",
          "y0": 0.29999999999999993,
          "y1": 0.9,
          "yref": "y2"
         },
         {
          "fillcolor": "rgb(99, 110, 250)",
          "line": {
           "color": "rgb(49, 60, 200)",
           "width": 1
          },
          "type": "circle",
          "x0": 0.9087096774193548,
          "x1": 0.9299999999999999,
          "xref": "x2",
          "y0": 0.8340000000000001,
          "y1": 0.966,
          "yref": "y2"
         },
         {
          "fillcolor": "rgb(99, 110, 250)",
          "line": {
           "color": "rgb(49, 60, 200)",
           "width": 1
          },
          "type": "circle",
          "x0": 0.9087096774193548,
          "x1": 0.9299999999999999,
          "xref": "x2",
          "y0": 0.6339999999999999,
          "y1": 0.766,
          "yref": "y2"
         },
         {
          "fillcolor": "rgb(99, 110, 250)",
          "line": {
           "color": "rgb(49, 60, 200)",
           "width": 1
          },
          "type": "circle",
          "x0": 0.9087096774193548,
          "x1": 0.9299999999999999,
          "xref": "x2",
          "y0": 0.23399999999999993,
          "y1": 0.36599999999999994,
          "yref": "y2"
         },
         {
          "fillcolor": "rgb(99, 110, 250)",
          "line": {
           "color": "rgb(99, 110, 250)"
          },
          "opacity": 0.6,
          "type": "rect",
          "x0": 0.9462903225806452,
          "x1": 0.9569354838709678,
          "xref": "x2",
          "y0": 0.29999999999999993,
          "y1": 0.7,
          "yref": "y2"
         },
         {
          "fillcolor": "rgb(99, 110, 250)",
          "line": {
           "color": "rgb(49, 60, 200)",
           "width": 1
          },
          "type": "circle",
          "x0": 0.9409677419354839,
          "x1": 0.962258064516129,
          "xref": "x2",
          "y0": 0.6339999999999999,
          "y1": 0.766,
          "yref": "y2"
         },
         {
          "fillcolor": "rgb(99, 110, 250)",
          "line": {
           "color": "rgb(49, 60, 200)",
           "width": 1
          },
          "type": "circle",
          "x0": 0.9409677419354839,
          "x1": 0.962258064516129,
          "xref": "x2",
          "y0": 0.43399999999999994,
          "y1": 0.566,
          "yref": "y2"
         },
         {
          "fillcolor": "rgb(99, 110, 250)",
          "line": {
           "color": "rgb(49, 60, 200)",
           "width": 1
          },
          "type": "circle",
          "x0": 0.9409677419354839,
          "x1": 0.962258064516129,
          "xref": "x2",
          "y0": 0.23399999999999993,
          "y1": 0.36599999999999994,
          "yref": "y2"
         },
         {
          "fillcolor": "rgb(99, 110, 250)",
          "line": {
           "color": "rgb(99, 110, 250)"
          },
          "opacity": 0.6,
          "type": "rect",
          "x0": 0.9785483870967742,
          "x1": 0.9891935483870968,
          "xref": "x2",
          "y0": 0.29999999999999993,
          "y1": 0.9,
          "yref": "y2"
         },
         {
          "fillcolor": "rgb(99, 110, 250)",
          "line": {
           "color": "rgb(49, 60, 200)",
           "width": 1
          },
          "type": "circle",
          "x0": 0.9732258064516129,
          "x1": 0.9945161290322581,
          "xref": "x2",
          "y0": 0.8340000000000001,
          "y1": 0.966,
          "yref": "y2"
         },
         {
          "fillcolor": "rgb(99, 110, 250)",
          "line": {
           "color": "rgb(49, 60, 200)",
           "width": 1
          },
          "type": "circle",
          "x0": 0.9732258064516129,
          "x1": 0.9945161290322581,
          "xref": "x2",
          "y0": 0.6339999999999999,
          "y1": 0.766,
          "yref": "y2"
         },
         {
          "fillcolor": "rgb(99, 110, 250)",
          "line": {
           "color": "rgb(49, 60, 200)",
           "width": 1
          },
          "type": "circle",
          "x0": 0.9732258064516129,
          "x1": 0.9945161290322581,
          "xref": "x2",
          "y0": 0.43399999999999994,
          "y1": 0.566,
          "yref": "y2"
         },
         {
          "fillcolor": "rgb(99, 110, 250)",
          "line": {
           "color": "rgb(49, 60, 200)",
           "width": 1
          },
          "type": "circle",
          "x0": 0.9732258064516129,
          "x1": 0.9945161290322581,
          "xref": "x2",
          "y0": 0.23399999999999993,
          "y1": 0.36599999999999994,
          "yref": "y2"
         }
        ],
        "showlegend": false,
        "template": {
         "data": {
          "bar": [
           {
            "error_x": {
             "color": "#2a3f5f"
            },
            "error_y": {
             "color": "#2a3f5f"
            },
            "marker": {
             "line": {
              "color": "#E5ECF6",
              "width": 0.5
             },
             "pattern": {
              "fillmode": "overlay",
              "size": 10,
              "solidity": 0.2
             }
            },
            "type": "bar"
           }
          ],
          "barpolar": [
           {
            "marker": {
             "line": {
              "color": "#E5ECF6",
              "width": 0.5
             },
             "pattern": {
              "fillmode": "overlay",
              "size": 10,
              "solidity": 0.2
             }
            },
            "type": "barpolar"
           }
          ],
          "carpet": [
           {
            "aaxis": {
             "endlinecolor": "#2a3f5f",
             "gridcolor": "white",
             "linecolor": "white",
             "minorgridcolor": "white",
             "startlinecolor": "#2a3f5f"
            },
            "baxis": {
             "endlinecolor": "#2a3f5f",
             "gridcolor": "white",
             "linecolor": "white",
             "minorgridcolor": "white",
             "startlinecolor": "#2a3f5f"
            },
            "type": "carpet"
           }
          ],
          "choropleth": [
           {
            "colorbar": {
             "outlinewidth": 0,
             "ticks": ""
            },
            "type": "choropleth"
           }
          ],
          "contour": [
           {
            "colorbar": {
             "outlinewidth": 0,
             "ticks": ""
            },
            "colorscale": [
             [
              0,
              "#0d0887"
             ],
             [
              0.1111111111111111,
              "#46039f"
             ],
             [
              0.2222222222222222,
              "#7201a8"
             ],
             [
              0.3333333333333333,
              "#9c179e"
             ],
             [
              0.4444444444444444,
              "#bd3786"
             ],
             [
              0.5555555555555556,
              "#d8576b"
             ],
             [
              0.6666666666666666,
              "#ed7953"
             ],
             [
              0.7777777777777778,
              "#fb9f3a"
             ],
             [
              0.8888888888888888,
              "#fdca26"
             ],
             [
              1,
              "#f0f921"
             ]
            ],
            "type": "contour"
           }
          ],
          "contourcarpet": [
           {
            "colorbar": {
             "outlinewidth": 0,
             "ticks": ""
            },
            "type": "contourcarpet"
           }
          ],
          "heatmap": [
           {
            "colorbar": {
             "outlinewidth": 0,
             "ticks": ""
            },
            "colorscale": [
             [
              0,
              "#0d0887"
             ],
             [
              0.1111111111111111,
              "#46039f"
             ],
             [
              0.2222222222222222,
              "#7201a8"
             ],
             [
              0.3333333333333333,
              "#9c179e"
             ],
             [
              0.4444444444444444,
              "#bd3786"
             ],
             [
              0.5555555555555556,
              "#d8576b"
             ],
             [
              0.6666666666666666,
              "#ed7953"
             ],
             [
              0.7777777777777778,
              "#fb9f3a"
             ],
             [
              0.8888888888888888,
              "#fdca26"
             ],
             [
              1,
              "#f0f921"
             ]
            ],
            "type": "heatmap"
           }
          ],
          "heatmapgl": [
           {
            "colorbar": {
             "outlinewidth": 0,
             "ticks": ""
            },
            "colorscale": [
             [
              0,
              "#0d0887"
             ],
             [
              0.1111111111111111,
              "#46039f"
             ],
             [
              0.2222222222222222,
              "#7201a8"
             ],
             [
              0.3333333333333333,
              "#9c179e"
             ],
             [
              0.4444444444444444,
              "#bd3786"
             ],
             [
              0.5555555555555556,
              "#d8576b"
             ],
             [
              0.6666666666666666,
              "#ed7953"
             ],
             [
              0.7777777777777778,
              "#fb9f3a"
             ],
             [
              0.8888888888888888,
              "#fdca26"
             ],
             [
              1,
              "#f0f921"
             ]
            ],
            "type": "heatmapgl"
           }
          ],
          "histogram": [
           {
            "marker": {
             "pattern": {
              "fillmode": "overlay",
              "size": 10,
              "solidity": 0.2
             }
            },
            "type": "histogram"
           }
          ],
          "histogram2d": [
           {
            "colorbar": {
             "outlinewidth": 0,
             "ticks": ""
            },
            "colorscale": [
             [
              0,
              "#0d0887"
             ],
             [
              0.1111111111111111,
              "#46039f"
             ],
             [
              0.2222222222222222,
              "#7201a8"
             ],
             [
              0.3333333333333333,
              "#9c179e"
             ],
             [
              0.4444444444444444,
              "#bd3786"
             ],
             [
              0.5555555555555556,
              "#d8576b"
             ],
             [
              0.6666666666666666,
              "#ed7953"
             ],
             [
              0.7777777777777778,
              "#fb9f3a"
             ],
             [
              0.8888888888888888,
              "#fdca26"
             ],
             [
              1,
              "#f0f921"
             ]
            ],
            "type": "histogram2d"
           }
          ],
          "histogram2dcontour": [
           {
            "colorbar": {
             "outlinewidth": 0,
             "ticks": ""
            },
            "colorscale": [
             [
              0,
              "#0d0887"
             ],
             [
              0.1111111111111111,
              "#46039f"
             ],
             [
              0.2222222222222222,
              "#7201a8"
             ],
             [
              0.3333333333333333,
              "#9c179e"
             ],
             [
              0.4444444444444444,
              "#bd3786"
             ],
             [
              0.5555555555555556,
              "#d8576b"
             ],
             [
              0.6666666666666666,
              "#ed7953"
             ],
             [
              0.7777777777777778,
              "#fb9f3a"
             ],
             [
              0.8888888888888888,
              "#fdca26"
             ],
             [
              1,
              "#f0f921"
             ]
            ],
            "type": "histogram2dcontour"
           }
          ],
          "mesh3d": [
           {
            "colorbar": {
             "outlinewidth": 0,
             "ticks": ""
            },
            "type": "mesh3d"
           }
          ],
          "parcoords": [
           {
            "line": {
             "colorbar": {
              "outlinewidth": 0,
              "ticks": ""
             }
            },
            "type": "parcoords"
           }
          ],
          "pie": [
           {
            "automargin": true,
            "type": "pie"
           }
          ],
          "scatter": [
           {
            "fillpattern": {
             "fillmode": "overlay",
             "size": 10,
             "solidity": 0.2
            },
            "type": "scatter"
           }
          ],
          "scatter3d": [
           {
            "line": {
             "colorbar": {
              "outlinewidth": 0,
              "ticks": ""
             }
            },
            "marker": {
             "colorbar": {
              "outlinewidth": 0,
              "ticks": ""
             }
            },
            "type": "scatter3d"
           }
          ],
          "scattercarpet": [
           {
            "marker": {
             "colorbar": {
              "outlinewidth": 0,
              "ticks": ""
             }
            },
            "type": "scattercarpet"
           }
          ],
          "scattergeo": [
           {
            "marker": {
             "colorbar": {
              "outlinewidth": 0,
              "ticks": ""
             }
            },
            "type": "scattergeo"
           }
          ],
          "scattergl": [
           {
            "marker": {
             "colorbar": {
              "outlinewidth": 0,
              "ticks": ""
             }
            },
            "type": "scattergl"
           }
          ],
          "scattermapbox": [
           {
            "marker": {
             "colorbar": {
              "outlinewidth": 0,
              "ticks": ""
             }
            },
            "type": "scattermapbox"
           }
          ],
          "scatterpolar": [
           {
            "marker": {
             "colorbar": {
              "outlinewidth": 0,
              "ticks": ""
             }
            },
            "type": "scatterpolar"
           }
          ],
          "scatterpolargl": [
           {
            "marker": {
             "colorbar": {
              "outlinewidth": 0,
              "ticks": ""
             }
            },
            "type": "scatterpolargl"
           }
          ],
          "scatterternary": [
           {
            "marker": {
             "colorbar": {
              "outlinewidth": 0,
              "ticks": ""
             }
            },
            "type": "scatterternary"
           }
          ],
          "surface": [
           {
            "colorbar": {
             "outlinewidth": 0,
             "ticks": ""
            },
            "colorscale": [
             [
              0,
              "#0d0887"
             ],
             [
              0.1111111111111111,
              "#46039f"
             ],
             [
              0.2222222222222222,
              "#7201a8"
             ],
             [
              0.3333333333333333,
              "#9c179e"
             ],
             [
              0.4444444444444444,
              "#bd3786"
             ],
             [
              0.5555555555555556,
              "#d8576b"
             ],
             [
              0.6666666666666666,
              "#ed7953"
             ],
             [
              0.7777777777777778,
              "#fb9f3a"
             ],
             [
              0.8888888888888888,
              "#fdca26"
             ],
             [
              1,
              "#f0f921"
             ]
            ],
            "type": "surface"
           }
          ],
          "table": [
           {
            "cells": {
             "fill": {
              "color": "#EBF0F8"
             },
             "line": {
              "color": "white"
             }
            },
            "header": {
             "fill": {
              "color": "#C8D4E3"
             },
             "line": {
              "color": "white"
             }
            },
            "type": "table"
           }
          ]
         },
         "layout": {
          "annotationdefaults": {
           "arrowcolor": "#2a3f5f",
           "arrowhead": 0,
           "arrowwidth": 1
          },
          "autotypenumbers": "strict",
          "coloraxis": {
           "colorbar": {
            "outlinewidth": 0,
            "ticks": ""
           }
          },
          "colorscale": {
           "diverging": [
            [
             0,
             "#8e0152"
            ],
            [
             0.1,
             "#c51b7d"
            ],
            [
             0.2,
             "#de77ae"
            ],
            [
             0.3,
             "#f1b6da"
            ],
            [
             0.4,
             "#fde0ef"
            ],
            [
             0.5,
             "#f7f7f7"
            ],
            [
             0.6,
             "#e6f5d0"
            ],
            [
             0.7,
             "#b8e186"
            ],
            [
             0.8,
             "#7fbc41"
            ],
            [
             0.9,
             "#4d9221"
            ],
            [
             1,
             "#276419"
            ]
           ],
           "sequential": [
            [
             0,
             "#0d0887"
            ],
            [
             0.1111111111111111,
             "#46039f"
            ],
            [
             0.2222222222222222,
             "#7201a8"
            ],
            [
             0.3333333333333333,
             "#9c179e"
            ],
            [
             0.4444444444444444,
             "#bd3786"
            ],
            [
             0.5555555555555556,
             "#d8576b"
            ],
            [
             0.6666666666666666,
             "#ed7953"
            ],
            [
             0.7777777777777778,
             "#fb9f3a"
            ],
            [
             0.8888888888888888,
             "#fdca26"
            ],
            [
             1,
             "#f0f921"
            ]
           ],
           "sequentialminus": [
            [
             0,
             "#0d0887"
            ],
            [
             0.1111111111111111,
             "#46039f"
            ],
            [
             0.2222222222222222,
             "#7201a8"
            ],
            [
             0.3333333333333333,
             "#9c179e"
            ],
            [
             0.4444444444444444,
             "#bd3786"
            ],
            [
             0.5555555555555556,
             "#d8576b"
            ],
            [
             0.6666666666666666,
             "#ed7953"
            ],
            [
             0.7777777777777778,
             "#fb9f3a"
            ],
            [
             0.8888888888888888,
             "#fdca26"
            ],
            [
             1,
             "#f0f921"
            ]
           ]
          },
          "colorway": [
           "#636efa",
           "#EF553B",
           "#00cc96",
           "#ab63fa",
           "#FFA15A",
           "#19d3f3",
           "#FF6692",
           "#B6E880",
           "#FF97FF",
           "#FECB52"
          ],
          "font": {
           "color": "#2a3f5f"
          },
          "geo": {
           "bgcolor": "white",
           "lakecolor": "white",
           "landcolor": "#E5ECF6",
           "showlakes": true,
           "showland": true,
           "subunitcolor": "white"
          },
          "hoverlabel": {
           "align": "left"
          },
          "hovermode": "closest",
          "mapbox": {
           "style": "light"
          },
          "paper_bgcolor": "white",
          "plot_bgcolor": "#E5ECF6",
          "polar": {
           "angularaxis": {
            "gridcolor": "white",
            "linecolor": "white",
            "ticks": ""
           },
           "bgcolor": "#E5ECF6",
           "radialaxis": {
            "gridcolor": "white",
            "linecolor": "white",
            "ticks": ""
           }
          },
          "scene": {
           "xaxis": {
            "backgroundcolor": "#E5ECF6",
            "gridcolor": "white",
            "gridwidth": 2,
            "linecolor": "white",
            "showbackground": true,
            "ticks": "",
            "zerolinecolor": "white"
           },
           "yaxis": {
            "backgroundcolor": "#E5ECF6",
            "gridcolor": "white",
            "gridwidth": 2,
            "linecolor": "white",
            "showbackground": true,
            "ticks": "",
            "zerolinecolor": "white"
           },
           "zaxis": {
            "backgroundcolor": "#E5ECF6",
            "gridcolor": "white",
            "gridwidth": 2,
            "linecolor": "white",
            "showbackground": true,
            "ticks": "",
            "zerolinecolor": "white"
           }
          },
          "shapedefaults": {
           "line": {
            "color": "#2a3f5f"
           }
          },
          "ternary": {
           "aaxis": {
            "gridcolor": "white",
            "linecolor": "white",
            "ticks": ""
           },
           "baxis": {
            "gridcolor": "white",
            "linecolor": "white",
            "ticks": ""
           },
           "bgcolor": "#E5ECF6",
           "caxis": {
            "gridcolor": "white",
            "linecolor": "white",
            "ticks": ""
           }
          },
          "title": {
           "x": 0.05
          },
          "xaxis": {
           "automargin": true,
           "gridcolor": "white",
           "linecolor": "white",
           "ticks": "",
           "title": {
            "standoff": 15
           },
           "zerolinecolor": "white",
           "zerolinewidth": 2
          },
          "yaxis": {
           "automargin": true,
           "gridcolor": "white",
           "linecolor": "white",
           "ticks": "",
           "title": {
            "standoff": 15
           },
           "zerolinecolor": "white",
           "zerolinewidth": 2
          }
         }
        },
        "xaxis": {
         "anchor": "y",
         "domain": [
          0,
          1
         ],
         "fixedrange": true,
         "matches": "x2",
         "showticklabels": false
        },
        "xaxis2": {
         "anchor": "y2",
         "domain": [
          0,
          1
         ],
         "fixedrange": true,
         "range": [
          0,
          1
         ],
         "ticks": "",
         "ticktext": [],
         "tickvals": []
        },
        "yaxis": {
         "anchor": "x",
         "domain": [
          0.3433333333333333,
          1
         ],
         "title": {
          "text": "Intersection Size"
         }
        },
        "yaxis2": {
         "anchor": "x2",
         "domain": [
          0,
          0.3283333333333333
         ],
         "fixedrange": true,
         "range": [
          0,
          1
         ],
         "tickmode": "array",
         "ticktext": [
          "CORUM",
          "HuMAP",
          "Reactome",
          "SIGNOR",
          "StringDB"
         ],
         "tickvals": [
          0.9,
          0.7,
          0.49999999999999994,
          0.29999999999999993,
          0.09999999999999998
         ]
        }
       }
      }
     },
     "metadata": {},
     "output_type": "display_data"
    },
    {
     "name": "stdout",
     "output_type": "stream",
     "text": [
      "143252\n"
     ]
    }
   ],
   "source": [
    "benchmark_sources = {}\n",
    "for src in BENCHMARK_SOURCES:\n",
    "    res = pd.read_csv(f'../efaar_benchmarking/benchmark_annotations/{src}.txt')\n",
    "    res = res[res.entity1 != res.entity2]\n",
    "    res['sorted_entities'] = res.apply(lambda row: tuple(sorted([row['entity1'], row['entity2']])), axis=1)\n",
    "    benchmark_sources[src] = set(res.sorted_entities)\n",
    "\n",
    "usp = UpSetPlotly(samples=list(benchmark_sources.values()), sample_names=list(benchmark_sources.keys()))\n",
    "usp.plot(order_by='decreasing')\n",
    "\n",
    "print(f'The number of unique interacting gene pairs in all {len(BENCHMARK_SOURCES)} sources is {len(set().union(*list(benchmark_sources.values())))}')"
   ]
  },
  {
   "cell_type": "markdown",
   "metadata": {},
   "source": [
    "## Check the number of total genes and expressed genes (for Table 1)."
   ]
  },
  {
   "cell_type": "code",
   "execution_count": 3,
   "metadata": {},
   "outputs": [],
   "source": [
    "res_folder = 'data'\n",
    "expression_data_folder = 'expression_data'\n",
    "\n",
    "# PERISCOPE EXPRESSION COUNT\n",
    "metadata = pd.read_pickle(f'{res_folder}/PERISCOPE_pre_agg_metadata.pkl')\n",
    "all_genes = set(metadata[PERISCOPE_PERT_LABEL_COL])\n",
    "expr = pd.read_csv(f'{expression_data_folder}/HeLa_expression.csv')\n",
    "expr.columns = ['gene', 'tpm']\n",
    "expr.gene = expr.gene.apply(lambda x: x.split(' ')[0])\n",
    "exp_genes = all_genes.intersection(expr[expr.tpm != 0].gene)\n",
    "unexp_genes = all_genes.intersection(expr[expr.tpm == 0].gene)\n",
    "print('PERISCOPE', len(exp_genes), len(unexp_genes), len(all_genes))\n",
    "\n",
    "# JUMP EXPRESSION COUNT\n",
    "metadata = pd.read_pickle(f'{res_folder}/JUMP_pre_agg_metadata.pkl')\n",
    "all_genes = set(metadata[JUMP_PERT_LABEL_COL])\n",
    "expr = pd.read_csv(f'{expression_data_folder}/U2OS_expression.csv', index_col=0)\n",
    "expr = expr.groupby('gene').zfpkm.agg('median').reset_index()\n",
    "exp_genes = all_genes.intersection(expr[expr.zfpkm >= -3].gene)\n",
    "unexp_genes = all_genes.intersection(expr[expr.zfpkm < -3].gene)\n",
    "print('JUMP', len(exp_genes), len(unexp_genes), len(all_genes))"
   ]
  },
  {
   "cell_type": "markdown",
   "metadata": {},
   "source": [
    "## Check unfiltered cell count features in JUMP (Supp Fig 2)"
   ]
  },
  {
   "cell_type": "code",
   "execution_count": null,
   "metadata": {},
   "outputs": [],
   "source": [
    "features_orig, metadata = load_cpg16_crispr()\n",
    "\n",
    "features_orig['Cytoplasm_Number_Object_Number'].hist(bins=100)\n",
    "plt.xlabel('Number of cytoplasm objects')\n",
    "plt.ylabel('Frequency')\n",
    "plt.show()\n",
    "\n",
    "features_orig['Nuclei_Number_Object_Number'].hist(bins=100)\n",
    "plt.xlabel('Number of nuclei objects')\n",
    "plt.ylabel('Frequency')\n",
    "plt.show()"
   ]
  },
  {
   "cell_type": "markdown",
   "metadata": {},
   "source": [
    "## Check overlaps of identified protein complexes across the four perturbative maps (Section 4.3.4 & Fig 2)."
   ]
  },
  {
   "cell_type": "code",
   "execution_count": null,
   "metadata": {
    "scrolled": true
   },
   "outputs": [],
   "source": [
    "# These pickle files only include expressed genes.\n",
    "with open('data/jump_aggr_tvn128_map.pkl', 'rb') as outfile: ### TODO: the user does not know how to generate this file\n",
    "    jump_map_data = pickle.load(outfile)\n",
    "\n",
    "with open('data/periscope_aggr_tvn128_map.pkl', 'rb') as outfile: ### TODO: the user does not know how to generate this file\n",
    "    periscope_map_data = pickle.load(outfile)\n",
    "\n",
    "with open('data/replogle_aggr_tvn128_map.pkl', 'rb') as outfile: ### TODO: the user does not know how to generate this file\n",
    "    gwps_map_data = pickle.load(outfile)\n",
    "\n",
    "len(jump_map_data.metadata[JUMP_PERT_LABEL_COL].unique()), len(periscope_map_data.metadata[PERISCOPE_PERT_LABEL_COL].unique()), len(gwps_map_data.metadata[GWPS_PERT_LABEL_COL].unique())\n",
    "\n",
    "jump_metrics = cluster_benchmark(jump_map_data, pert_col=JUMP_PERT_LABEL_COL)\n",
    "periscope_metrics = cluster_benchmark(periscope_map_data, pert_col=PERISCOPE_PERT_LABEL_COL)\n",
    "gwps_metrics = cluster_benchmark(gwps_map_data, pert_col=GWPS_PERT_LABEL_COL)\n",
    "\n",
    "thr = .01\n",
    "metdict = {'GWPS': gwps_metrics, 'JUMP': jump_metrics, 'PERISCOPE': periscope_metrics}\n",
    "sigs = {}\n",
    "for k, df in metdict.items():\n",
    "    sigs[k] = set(df[df.ks_pval <= thr].cluster)\n",
    "\n",
    "for k, s in sigs.items():\n",
    "    pd.Series(list(s)).to_csv(f'data/{k}_significant_clusters.csv', index=False)\n",
    "\n",
    "venn3(list(sigs.values()), list(sigs.keys()))\n",
    "plt.title('Overlap of significant clusters')\n",
    "plt.show()\n"
   ]
  },
  {
   "cell_type": "markdown",
   "metadata": {},
   "source": [
    "## Confirm the identified relationships of C18orf21 and C1orf131 in GWPS (Section 4.3.5)"
   ]
  },
  {
   "cell_type": "code",
   "execution_count": null,
   "metadata": {},
   "outputs": [],
   "source": [
    "print('Top relationships of C18orf21 in GWPS:')\n",
    "print(compute_top_similars(gwps_map_data, GWPS_PERT_LABEL_COL, 'C18orf21', topx=75))\n",
    "print('Top relationships of C1orf131 in GWPS:')\n",
    "print(compute_top_similars(gwps_map_data, GWPS_PERT_LABEL_COL, 'C1orf131'))"
   ]
  }
 ],
 "metadata": {
  "kernelspec": {
   "display_name": "eben",
   "language": "python",
   "name": "python3"
  },
  "language_info": {
   "codemirror_mode": {
    "name": "ipython",
    "version": 3
   },
   "file_extension": ".py",
   "mimetype": "text/x-python",
   "name": "python",
   "nbconvert_exporter": "python",
   "pygments_lexer": "ipython3",
   "version": "3.11.5"
  }
 },
 "nbformat": 4,
 "nbformat_minor": 4
}
