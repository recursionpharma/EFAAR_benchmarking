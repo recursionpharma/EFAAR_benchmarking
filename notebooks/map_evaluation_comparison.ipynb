{
 "cells": [
  {
   "cell_type": "markdown",
   "metadata": {},
   "source": [
    "## Imports"
   ]
  },
  {
   "cell_type": "code",
   "execution_count": null,
   "metadata": {},
   "outputs": [],
   "source": [
    "from efaar_benchmarking.data_loading import *\n",
    "from efaar_benchmarking.efaar import *\n",
    "from efaar_benchmarking.constants import *\n",
    "from efaar_benchmarking.benchmarking import *\n",
    "import pandas as pd\n",
    "from matplotlib_venn import venn3\n",
    "import matplotlib.pyplot as plt\n",
    "from upsetplotly import UpSetPlotly\n",
    "import pickle"
   ]
  },
  {
   "cell_type": "markdown",
   "metadata": {},
   "source": [
    "## Check overlaps of the benchmark annotation sources (Supp Fig 1)."
   ]
  },
  {
   "cell_type": "code",
   "execution_count": null,
   "metadata": {},
   "outputs": [],
   "source": [
    "benchmark_sources = {}\n",
    "for src in BENCHMARK_SOURCES:\n",
    "    res = pd.read_csv(f'../efaar_benchmarking/benchmark_annotations/{src}.txt')\n",
    "    res = res[res.entity1 != res.entity2]\n",
    "    res['sorted_entities'] = res.apply(lambda row: tuple(sorted([row['entity1'], row['entity2']])), axis=1)\n",
    "    benchmark_sources[src] = set(res.sorted_entities)\n",
    "\n",
    "usp = UpSetPlotly(samples=list(benchmark_sources.values()), sample_names=list(benchmark_sources.keys()))\n",
    "usp.plot(order_by='decreasing')\n",
    "\n",
    "print(f'The number of unique interacting gene pairs in all {len(BENCHMARK_SOURCES)} sources is {len(set().union(*list(benchmark_sources.values())))}')"
   ]
  },
  {
   "cell_type": "markdown",
   "metadata": {},
   "source": [
    "## Check the number of total genes and expressed genes (for Table 1)."
   ]
  },
  {
   "cell_type": "code",
   "execution_count": null,
   "metadata": {},
   "outputs": [],
   "source": [
    "res_folder = 'data'\n",
    "expression_data_folder = '../efaar_benchmarking/expression_data'\n",
    "\n",
    "metadata = pd.read_pickle(f'{res_folder}/GWPS_pre_agg_metadata.pkl')\n",
    "all_genes = set(metadata[GWPS_PERT_LABEL_COL])\n",
    "print('GWPS', len(all_genes)) ## all genes are expressed in GWPS\n",
    "\n",
    "metadata = pd.read_pickle(f'{res_folder}/JUMP_pre_agg_metadata.pkl')\n",
    "all_genes = set(metadata[JUMP_PERT_LABEL_COL])\n",
    "expr = pd.read_csv(f'{expression_data_folder}/U2OS_expression.csv', index_col=0)\n",
    "expr = expr.groupby('gene').zfpkm.agg('median').reset_index()\n",
    "exp_genes = all_genes.intersection(expr[expr.zfpkm >= -3].gene)\n",
    "unexp_genes = all_genes.intersection(expr[expr.zfpkm < -3].gene)\n",
    "print('JUMP', len(exp_genes), len(unexp_genes), len(all_genes))\n",
    "\n",
    "metadata = pd.read_pickle(f'{res_folder}/PERISCOPE_pre_agg_metadata.pkl')\n",
    "all_genes = set(metadata[PERISCOPE_PERT_LABEL_COL])\n",
    "expr = pd.read_csv(f'{expression_data_folder}/HeLa_expression.csv')\n",
    "expr.columns = ['gene', 'tpm']\n",
    "expr.gene = expr.gene.apply(lambda x: x.split(' ')[0])\n",
    "exp_genes = all_genes.intersection(expr[expr.tpm != 0].gene)\n",
    "unexp_genes = all_genes.intersection(expr[expr.tpm == 0].gene)\n",
    "print('PERISCOPE', len(exp_genes), len(unexp_genes), len(all_genes))"
   ]
  },
  {
   "cell_type": "markdown",
   "metadata": {},
   "source": [
    "## Check unfiltered cell count features in JUMP (Supp Fig 2)"
   ]
  },
  {
   "cell_type": "code",
   "execution_count": null,
   "metadata": {},
   "outputs": [],
   "source": [
    "features_orig, metadata = load_cpg16_crispr()\n",
    "\n",
    "features_orig['Cytoplasm_Number_Object_Number'].hist(bins=100)\n",
    "plt.xlabel('Number of cytoplasm objects')\n",
    "plt.ylabel('Frequency')\n",
    "plt.show()\n",
    "\n",
    "features_orig['Nuclei_Number_Object_Number'].hist(bins=100)\n",
    "plt.xlabel('Number of nuclei objects')\n",
    "plt.ylabel('Frequency')\n",
    "plt.show()"
   ]
  },
  {
   "cell_type": "markdown",
   "metadata": {},
   "source": [
    "## Check overlaps of identified protein complexes across the four perturbative maps (Section 4.3.4 & Fig 2)."
   ]
  },
  {
   "cell_type": "code",
   "execution_count": null,
   "metadata": {
    "scrolled": true
   },
   "outputs": [],
   "source": [
    "res_folder = 'data'\n",
    "pc_count = 128\n",
    "with open(f'{res_folder}/JUMP_aggr_CP-PCA{pc_count}-TVN_map.pkl', 'rb') as outfile:\n",
    "    jump_map_data = pickle.load(outfile)\n",
    "\n",
    "with open(f'{res_folder}/PERISCOPE_aggr_CP-PCA{pc_count}-TVN_map.pkl', 'rb') as outfile:\n",
    "    periscope_map_data = pickle.load(outfile)\n",
    "\n",
    "with open(f'{res_folder}/GWPS_aggr_scVI{pc_count}-TVN_map.pkl', 'rb') as outfile:\n",
    "    gwps_map_data = pickle.load(outfile)\n",
    "\n",
    "len(jump_map_data.metadata[JUMP_PERT_LABEL_COL].unique()), len(periscope_map_data.metadata[PERISCOPE_PERT_LABEL_COL].unique()), len(gwps_map_data.metadata[GWPS_PERT_LABEL_COL].unique())\n",
    "\n",
    "jump_metrics = cluster_benchmark(jump_map_data, pert_col=JUMP_PERT_LABEL_COL)\n",
    "periscope_metrics = cluster_benchmark(periscope_map_data, pert_col=PERISCOPE_PERT_LABEL_COL)\n",
    "gwps_metrics = cluster_benchmark(gwps_map_data, pert_col=GWPS_PERT_LABEL_COL)\n",
    "\n",
    "thr = .01\n",
    "metdict = {'GWPS': gwps_metrics, 'JUMP': jump_metrics, 'PERISCOPE': periscope_metrics}\n",
    "sigs = {}\n",
    "for k, df in metdict.items():\n",
    "    sigs[k] = set(df[df.ks_pval <= thr].cluster)\n",
    "\n",
    "for k, s in sigs.items():\n",
    "    pd.Series(list(s)).to_csv(f'data/{k}_significant_clusters.csv', index=False)\n",
    "\n",
    "venn3(list(sigs.values()), list(sigs.keys()))\n",
    "plt.title('Overlap of significant clusters')\n",
    "plt.show()\n"
   ]
  },
  {
   "cell_type": "markdown",
   "metadata": {},
   "source": [
    "## Confirm the identified relationships of C18orf21 and C1orf131 in GWPS (Section 4.3.5)"
   ]
  },
  {
   "cell_type": "code",
   "execution_count": null,
   "metadata": {},
   "outputs": [],
   "source": [
    "print('Top relationships of C18orf21 in GWPS:')\n",
    "print(compute_top_similars(gwps_map_data, GWPS_PERT_LABEL_COL, 'C18orf21', topx=75))\n",
    "print('Top relationships of C1orf131 in GWPS:')\n",
    "print(compute_top_similars(gwps_map_data, GWPS_PERT_LABEL_COL, 'C1orf131'))"
   ]
  }
 ],
 "metadata": {
  "kernelspec": {
   "display_name": "eben",
   "language": "python",
   "name": "python3"
  },
  "language_info": {
   "codemirror_mode": {
    "name": "ipython",
    "version": 3
   },
   "file_extension": ".py",
   "mimetype": "text/x-python",
   "name": "python",
   "nbconvert_exporter": "python",
   "pygments_lexer": "ipython3",
   "version": "3.11.5"
  }
 },
 "nbformat": 4,
 "nbformat_minor": 4
}
